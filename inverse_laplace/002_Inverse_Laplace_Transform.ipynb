{
 "cells": [
  {
   "cell_type": "markdown",
   "metadata": {},
   "source": [
    "- **Name:** \n",
    "- **Term:**"
   ]
  },
  {
   "cell_type": "markdown",
   "metadata": {},
   "source": [
    "##### Required Python Packages\n",
    "Run the following applications once if they are not yet installed in your Python environment:"
   ]
  },
  {
   "cell_type": "code",
   "execution_count": null,
   "metadata": {},
   "outputs": [],
   "source": [
    "!pip install numpy"
   ]
  },
  {
   "cell_type": "code",
   "execution_count": null,
   "metadata": {},
   "outputs": [],
   "source": [
    "!pip install scipy"
   ]
  },
  {
   "cell_type": "code",
   "execution_count": null,
   "metadata": {},
   "outputs": [],
   "source": [
    "!pip install matplotlib"
   ]
  },
  {
   "cell_type": "code",
   "execution_count": null,
   "metadata": {},
   "outputs": [],
   "source": [
    "!pip install panda"
   ]
  },
  {
   "cell_type": "code",
   "execution_count": null,
   "metadata": {},
   "outputs": [],
   "source": [
    "!pip install gekko"
   ]
  },
  {
   "cell_type": "code",
   "execution_count": null,
   "metadata": {},
   "outputs": [],
   "source": [
    "!pip install scikit-learn"
   ]
  },
  {
   "cell_type": "code",
   "execution_count": null,
   "metadata": {},
   "outputs": [],
   "source": [
    "!pip install sympy"
   ]
  },
  {
   "attachments": {},
   "cell_type": "markdown",
   "metadata": {},
   "source": [
    "### Machine Problem 002: Inverse Laplace Transforms\n",
    "\n",
    "Finding a function $f(t)$, given the Laplace transform $F(s)$.  If $L{f(t)} = F(s)$ we write:\n",
    "\n",
    "$f(t) = \\mathcal{L}^{-1}\\left(F(s)\\right)$\n",
    "\n",
    "The SymPy library is a symbolic mathematics library written for Python that can be used to perform analytical calculations. This library can be very useful for control system design and analysis."
   ]
  },
  {
   "cell_type": "markdown",
   "metadata": {},
   "source": [
    "### Table of Common Laplace Transforms\n",
    "Mathematicians have developed tables of commonly used Laplace transforms. Here is summary table with a few of the entries that will be most common for analysis of linear differential equations.\n",
    "\n",
    "| **Item no.** | **f(t)**                | **F(s)**                           |\n",
    "|--------------|-------------------------|------------------------------------|\n",
    "| 1.           | $ \\delta(t) $           | $ 1 $                              |\n",
    "| 2.           | $ u(t) $                | $ \\frac{1}{s} $                    |\n",
    "| 3.           | $ tu(t) $               | $ \\frac{1}{s^2} $                  |\n",
    "| 4.           | $ t^n u(t) $            | $ \\frac{n!}{s^{n+1}} $             |\n",
    "| 5.           | $ e^{-at}u(t) $         | $ \\frac{1}{s + a} $                |\n",
    "| 6.           | $ \\sin(\\omega t)u(t) $  | $ \\frac{\\omega}{s^2 + \\omega^2} $  |\n",
    "| 7.           | $ \\cos(\\omega t)u(t) $  | $ \\frac{s}{s^2 + \\omega^2} $       |\n"
   ]
  },
  {
   "cell_type": "code",
   "execution_count": null,
   "metadata": {},
   "outputs": [],
   "source": [
    "import sympy as sym\n",
    "from sympy.abc import s,t,u,x,y,z,a,b,c,k\n",
    "from sympy.integrals import inverse_laplace_transform"
   ]
  },
  {
   "cell_type": "code",
   "execution_count": null,
   "metadata": {},
   "outputs": [],
   "source": [
    "# For pretty  printing\n",
    "sym.init_printing()"
   ]
  },
  {
   "cell_type": "code",
   "execution_count": null,
   "metadata": {},
   "outputs": [],
   "source": [
    "# Define variables for time 't' and complex variable 's'\n",
    "# t = sym.symbols('t', real=True)\n",
    "# s = sym.symbols('s')\n",
    "\n",
    "# Define a constant:\n",
    "# a = sym.symbols('a', real=True, positive=True)"
   ]
  },
  {
   "cell_type": "markdown",
   "metadata": {},
   "source": [
    "1. Evaluate:\n",
    "\n",
    "$$ \\mathcal{L}^{-1}\\{\\frac{2}{s^3}\\} = t^2 $$"
   ]
  },
  {
   "cell_type": "code",
   "execution_count": null,
   "metadata": {},
   "outputs": [],
   "source": [
    "# Define the frequency domain function:\n",
    "f1s = 2/s**3\n",
    "f1s"
   ]
  },
  {
   "cell_type": "code",
   "execution_count": null,
   "metadata": {},
   "outputs": [],
   "source": [
    "# Compute the Inverse Laplace Transform:\n",
    "f1 = inverse_laplace_transform(f1s, s, t)\n",
    "f1"
   ]
  },
  {
   "cell_type": "markdown",
   "metadata": {},
   "source": [
    "2. Evaluate:\n",
    "\n",
    "$$ \\mathcal{L}^{-1}\\frac{s}{s^2+1}= cos(t) $$\n"
   ]
  },
  {
   "cell_type": "code",
   "execution_count": null,
   "metadata": {},
   "outputs": [],
   "source": [
    "# Define the frequency domain function:\n",
    "f2s = s/(s**2+1)\n",
    "f2s"
   ]
  },
  {
   "cell_type": "code",
   "execution_count": null,
   "metadata": {},
   "outputs": [],
   "source": [
    "# Compute the Inverse Laplace Transform:\n",
    "f2 = inverse_laplace_transform(f2s, s, t)\n",
    "f2"
   ]
  },
  {
   "attachments": {},
   "cell_type": "markdown",
   "metadata": {},
   "source": [
    "3. Evaluate:\n",
    "$$ \\mathcal{L}^{-1}\\frac{1}{s^2+1}= sin(t) $$\n"
   ]
  },
  {
   "cell_type": "code",
   "execution_count": null,
   "metadata": {},
   "outputs": [],
   "source": [
    "# Define the frequency domain function:\n",
    "f3s = 1/(s**2+1)\n",
    "f3s"
   ]
  },
  {
   "cell_type": "code",
   "execution_count": null,
   "metadata": {},
   "outputs": [],
   "source": [
    "# Laplace transform (t->s)\n",
    "f3 = inverse_laplace_transform(f3s, s, t)\n",
    "f3"
   ]
  },
  {
   "cell_type": "markdown",
   "metadata": {},
   "source": [
    "4. Evaluate:\n",
    "\n",
    "$$ \\mathcal{L}^{-1}\\frac{10}{(s+2)^4}= \\frac{5t^3e^{-2t}}{3} $$\n"
   ]
  },
  {
   "cell_type": "code",
   "execution_count": null,
   "metadata": {},
   "outputs": [],
   "source": [
    "# Define the frequency domain function:"
   ]
  },
  {
   "cell_type": "code",
   "execution_count": null,
   "metadata": {},
   "outputs": [],
   "source": [
    "# Compute the Inverse Laplace Transform:"
   ]
  },
  {
   "attachments": {},
   "cell_type": "markdown",
   "metadata": {},
   "source": [
    "5. Evaluate:\n",
    "\n",
    "$$ \\mathcal{L}^{-1}\\frac{s+1}{(s+1)^2+4} = e^{-t}cos2t $$\n"
   ]
  },
  {
   "cell_type": "code",
   "execution_count": null,
   "metadata": {},
   "outputs": [],
   "source": [
    "# Define the frequency domain function:\n"
   ]
  },
  {
   "cell_type": "code",
   "execution_count": null,
   "metadata": {},
   "outputs": [],
   "source": [
    "# Compute the Inverse Laplace Transform:\n"
   ]
  },
  {
   "cell_type": "markdown",
   "metadata": {},
   "source": [
    "6. Evaluate:\n",
    "\n",
    "$$ \\mathcal{L}^{-1}\\frac{15}{(s-1)^2-9} = 5e^{t}sinh3t $$\n"
   ]
  },
  {
   "cell_type": "code",
   "execution_count": null,
   "metadata": {},
   "outputs": [],
   "source": [
    "# Define the frequency domain function:"
   ]
  },
  {
   "cell_type": "code",
   "execution_count": null,
   "metadata": {},
   "outputs": [],
   "source": [
    "# Compute the Inverse Laplace Transform:"
   ]
  },
  {
   "cell_type": "markdown",
   "metadata": {},
   "source": [
    "7. Evaluate:\n",
    "\n",
    "$$ \\mathcal{L}^{-1}\\frac{4s-1}{s^2-s}= 1 + 3e^t $$\n"
   ]
  },
  {
   "cell_type": "code",
   "execution_count": null,
   "metadata": {},
   "outputs": [],
   "source": [
    "# Define the frequency domain function:"
   ]
  },
  {
   "cell_type": "code",
   "execution_count": null,
   "metadata": {},
   "outputs": [],
   "source": [
    "# Compute the Inverse Laplace Transform:"
   ]
  }
 ],
 "metadata": {
  "kernelspec": {
   "display_name": "Python 3 (ipykernel)",
   "language": "python",
   "name": "python3"
  },
  "language_info": {
   "codemirror_mode": {
    "name": "ipython",
    "version": 3
   },
   "file_extension": ".py",
   "mimetype": "text/x-python",
   "name": "python",
   "nbconvert_exporter": "python",
   "pygments_lexer": "ipython3",
   "version": "3.12.7"
  }
 },
 "nbformat": 4,
 "nbformat_minor": 4
}
