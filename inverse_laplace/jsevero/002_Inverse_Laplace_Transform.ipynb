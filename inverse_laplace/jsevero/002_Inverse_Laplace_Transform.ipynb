{
 "cells": [
  {
   "cell_type": "markdown",
   "id": "4143efaff7c364d5",
   "metadata": {},
   "source": [
    "- **Name: Jayvie Severo**\n",
    "- **Term: 2nd year term 3**"
   ]
  },
  {
   "cell_type": "markdown",
   "id": "487581e3842704e7",
   "metadata": {},
   "source": [
    "##### Required Python Packages\n",
    "Run the following applications once if they are not yet installed in your Python environment:"
   ]
  },
  {
   "cell_type": "code",
   "execution_count": 1,
   "id": "6b8fb01edaf4f2fd",
   "metadata": {},
   "outputs": [
    {
     "name": "stdout",
     "output_type": "stream",
     "text": [
      "Requirement already satisfied: numpy in c:\\programdata\\anaconda3\\envs\\control-systems\\lib\\site-packages (2.3.1)\n"
     ]
    }
   ],
   "source": [
    "!pip install numpy"
   ]
  },
  {
   "cell_type": "code",
   "execution_count": 2,
   "id": "75fb83145073b425",
   "metadata": {},
   "outputs": [
    {
     "name": "stdout",
     "output_type": "stream",
     "text": [
      "Requirement already satisfied: scipy in c:\\programdata\\anaconda3\\envs\\control-systems\\lib\\site-packages (1.16.0)\n",
      "Requirement already satisfied: numpy<2.6,>=1.25.2 in c:\\programdata\\anaconda3\\envs\\control-systems\\lib\\site-packages (from scipy) (2.3.1)\n"
     ]
    }
   ],
   "source": [
    "!pip install scipy"
   ]
  },
  {
   "cell_type": "code",
   "execution_count": 3,
   "id": "88e4b1d82f241df5",
   "metadata": {},
   "outputs": [
    {
     "name": "stdout",
     "output_type": "stream",
     "text": [
      "Requirement already satisfied: matplotlib in c:\\programdata\\anaconda3\\envs\\control-systems\\lib\\site-packages (3.10.3)\n",
      "Requirement already satisfied: contourpy>=1.0.1 in c:\\programdata\\anaconda3\\envs\\control-systems\\lib\\site-packages (from matplotlib) (1.3.2)\n",
      "Requirement already satisfied: cycler>=0.10 in c:\\programdata\\anaconda3\\envs\\control-systems\\lib\\site-packages (from matplotlib) (0.12.1)\n",
      "Requirement already satisfied: fonttools>=4.22.0 in c:\\programdata\\anaconda3\\envs\\control-systems\\lib\\site-packages (from matplotlib) (4.58.5)\n",
      "Requirement already satisfied: kiwisolver>=1.3.1 in c:\\programdata\\anaconda3\\envs\\control-systems\\lib\\site-packages (from matplotlib) (1.4.8)\n",
      "Requirement already satisfied: numpy>=1.23 in c:\\programdata\\anaconda3\\envs\\control-systems\\lib\\site-packages (from matplotlib) (2.3.1)\n",
      "Requirement already satisfied: packaging>=20.0 in c:\\programdata\\anaconda3\\envs\\control-systems\\lib\\site-packages (from matplotlib) (24.2)\n",
      "Requirement already satisfied: pillow>=8 in c:\\programdata\\anaconda3\\envs\\control-systems\\lib\\site-packages (from matplotlib) (11.3.0)\n",
      "Requirement already satisfied: pyparsing>=2.3.1 in c:\\programdata\\anaconda3\\envs\\control-systems\\lib\\site-packages (from matplotlib) (3.2.3)\n",
      "Requirement already satisfied: python-dateutil>=2.7 in c:\\programdata\\anaconda3\\envs\\control-systems\\lib\\site-packages (from matplotlib) (2.9.0.post0)\n",
      "Requirement already satisfied: six>=1.5 in c:\\programdata\\anaconda3\\envs\\control-systems\\lib\\site-packages (from python-dateutil>=2.7->matplotlib) (1.17.0)\n"
     ]
    }
   ],
   "source": [
    "!pip install matplotlib"
   ]
  },
  {
   "cell_type": "code",
   "execution_count": 4,
   "id": "e4b0414d7a002fcc",
   "metadata": {},
   "outputs": [
    {
     "name": "stdout",
     "output_type": "stream",
     "text": [
      "Requirement already satisfied: panda in c:\\programdata\\anaconda3\\envs\\control-systems\\lib\\site-packages (0.3.1)\n",
      "Requirement already satisfied: setuptools in c:\\programdata\\anaconda3\\envs\\control-systems\\lib\\site-packages (from panda) (78.1.1)\n",
      "Requirement already satisfied: requests in c:\\programdata\\anaconda3\\envs\\control-systems\\lib\\site-packages (from panda) (2.32.4)\n",
      "Requirement already satisfied: charset_normalizer<4,>=2 in c:\\programdata\\anaconda3\\envs\\control-systems\\lib\\site-packages (from requests->panda) (3.3.2)\n",
      "Requirement already satisfied: idna<4,>=2.5 in c:\\programdata\\anaconda3\\envs\\control-systems\\lib\\site-packages (from requests->panda) (3.7)\n",
      "Requirement already satisfied: urllib3<3,>=1.21.1 in c:\\programdata\\anaconda3\\envs\\control-systems\\lib\\site-packages (from requests->panda) (2.5.0)\n",
      "Requirement already satisfied: certifi>=2017.4.17 in c:\\programdata\\anaconda3\\envs\\control-systems\\lib\\site-packages (from requests->panda) (2025.6.15)\n"
     ]
    }
   ],
   "source": [
    "!pip install panda"
   ]
  },
  {
   "cell_type": "code",
   "execution_count": 5,
   "id": "78dac95f4b0f0f41",
   "metadata": {},
   "outputs": [
    {
     "name": "stdout",
     "output_type": "stream",
     "text": [
      "Requirement already satisfied: gekko in c:\\programdata\\anaconda3\\envs\\control-systems\\lib\\site-packages (1.3.0)\n",
      "Requirement already satisfied: numpy>=1.8 in c:\\programdata\\anaconda3\\envs\\control-systems\\lib\\site-packages (from gekko) (2.3.1)\n"
     ]
    }
   ],
   "source": [
    "!pip install gekko"
   ]
  },
  {
   "cell_type": "code",
   "execution_count": 6,
   "id": "23c9afd98735a074",
   "metadata": {},
   "outputs": [
    {
     "name": "stdout",
     "output_type": "stream",
     "text": [
      "Requirement already satisfied: scikit-learn in c:\\programdata\\anaconda3\\envs\\control-systems\\lib\\site-packages (1.7.0)\n",
      "Requirement already satisfied: numpy>=1.22.0 in c:\\programdata\\anaconda3\\envs\\control-systems\\lib\\site-packages (from scikit-learn) (2.3.1)\n",
      "Requirement already satisfied: scipy>=1.8.0 in c:\\programdata\\anaconda3\\envs\\control-systems\\lib\\site-packages (from scikit-learn) (1.16.0)\n",
      "Requirement already satisfied: joblib>=1.2.0 in c:\\programdata\\anaconda3\\envs\\control-systems\\lib\\site-packages (from scikit-learn) (1.5.1)\n",
      "Requirement already satisfied: threadpoolctl>=3.1.0 in c:\\programdata\\anaconda3\\envs\\control-systems\\lib\\site-packages (from scikit-learn) (3.6.0)\n"
     ]
    }
   ],
   "source": [
    "!pip install scikit-learn"
   ]
  },
  {
   "cell_type": "code",
   "execution_count": 7,
   "id": "ea35270ee14228a0",
   "metadata": {},
   "outputs": [
    {
     "name": "stdout",
     "output_type": "stream",
     "text": [
      "Requirement already satisfied: sympy in c:\\programdata\\anaconda3\\envs\\control-systems\\lib\\site-packages (1.14.0)\n",
      "Requirement already satisfied: mpmath<1.4,>=1.1.0 in c:\\programdata\\anaconda3\\envs\\control-systems\\lib\\site-packages (from sympy) (1.3.0)\n"
     ]
    }
   ],
   "source": [
    "!pip install sympy"
   ]
  },
  {
   "cell_type": "markdown",
   "id": "a641a634646848f5",
   "metadata": {},
   "source": [
    "### Machine Problem 002: Inverse Laplace Transforms\n",
    "\n",
    "Finding a function $f(t)$, given the Laplace transform $F(s)$.  If $L{f(t)} = F(s)$ we write:\n",
    "\n",
    "$f(t) = \\mathcal{L}^{-1}\\left(F(s)\\right)$\n",
    "\n",
    "The SymPy library is a symbolic mathematics library written for Python that can be used to perform analytical calculations. This library can be very useful for control system design and analysis."
   ]
  },
  {
   "cell_type": "markdown",
   "id": "57364f716a155c96",
   "metadata": {},
   "source": [
    "### Table of Common Laplace Transforms\n",
    "Mathematicians have developed tables of commonly used Laplace transforms. Here is summary table with a few of the entries that will be most common for analysis of linear differential equations.\n",
    "\n",
    "| **Item no.** | **f(t)**                | **F(s)**                           |\n",
    "|--------------|-------------------------|------------------------------------|\n",
    "| 1.           | $ \\delta(t) $           | $ 1 $                              |\n",
    "| 2.           | $ u(t) $                | $ \\frac{1}{s} $                    |\n",
    "| 3.           | $ tu(t) $               | $ \\frac{1}{s^2} $                  |\n",
    "| 4.           | $ t^n u(t) $            | $ \\frac{n!}{s^{n+1}} $             |\n",
    "| 5.           | $ e^{-at}u(t) $         | $ \\frac{1}{s + a} $                |\n",
    "| 6.           | $ \\sin(\\omega t)u(t) $  | $ \\frac{\\omega}{s^2 + \\omega^2} $  |\n",
    "| 7.           | $ \\cos(\\omega t)u(t) $  | $ \\frac{s}{s^2 + \\omega^2} $       |\n"
   ]
  },
  {
   "cell_type": "code",
   "execution_count": 8,
   "id": "adb522683e0b67db",
   "metadata": {},
   "outputs": [],
   "source": [
    "import sympy as sym\n",
    "from sympy.abc import s,t,u,x,y,z,a,b,c,k\n",
    "from sympy.integrals import inverse_laplace_transform"
   ]
  },
  {
   "cell_type": "code",
   "execution_count": 9,
   "id": "f88261616d22272b",
   "metadata": {},
   "outputs": [],
   "source": [
    "# For pretty  printing\n",
    "sym.init_printing()"
   ]
  },
  {
   "cell_type": "code",
   "execution_count": 10,
   "id": "43d5e55f82f4e241",
   "metadata": {},
   "outputs": [],
   "source": [
    "# Define variables for time 't' and complex variable 's'\n",
    "# t = sym.symbols('t', real=True)\n",
    "# s = sym.symbols('s')\n",
    "\n",
    "# Define a constant:\n",
    "# a = sym.symbols('a', real=True, positive=True)"
   ]
  },
  {
   "cell_type": "markdown",
   "id": "3de5ef486f9e74f8",
   "metadata": {},
   "source": [
    "1. Evaluate:\n",
    "\n",
    "$$ \\mathcal{L}^{-1}\\{\\frac{2}{s^3}\\} = t^2 $$"
   ]
  },
  {
   "cell_type": "code",
   "execution_count": 11,
   "id": "107945d94e71e2f7",
   "metadata": {},
   "outputs": [
    {
     "data": {
      "image/png": "[encoded data removed]",
      "text/latex": [
       "$\\displaystyle \\frac{2}{s^{3}}$"
      ],
      "text/plain": [
       "2 \n",
       "──\n",
       " 3\n",
       "s "
      ]
     },
     "execution_count": 11,
     "metadata": {},
     "output_type": "execute_result"
    }
   ],
   "source": [
    "# Define the frequency domain function:\n",
    "f1s = 2/s**3\n",
    "f1s"
   ]
  },
  {
   "cell_type": "code",
   "execution_count": 12,
   "id": "7c384868e031b8b2",
   "metadata": {},
   "outputs": [
    {
     "data": {
      "image/png": "[encoded data removed]",
      "text/latex": [
       "$\\displaystyle t^{2} \\theta\\left(t\\right)$"
      ],
      "text/plain": [
       " 2     \n",
       "t ⋅θ(t)"
      ]
     },
     "execution_count": 12,
     "metadata": {},
     "output_type": "execute_result"
    }
   ],
   "source": [
    "# Compute the Inverse Laplace Transform:\n",
    "f1 = inverse_laplace_transform(f1s, s, t)\n",
    "f1"
   ]
  },
  {
   "cell_type": "markdown",
   "id": "f14671e7fbd5661a",
   "metadata": {},
   "source": [
    "2. Evaluate:\n",
    "\n",
    "$$ \\mathcal{L}^{-1}\\frac{s}{s^2+1}= cos(t) $$\n"
   ]
  },
  {
   "cell_type": "code",
   "execution_count": 13,
   "id": "c0ca87acbad34a18",
   "metadata": {},
   "outputs": [
    {
     "data": {
      "image/png": "[encoded data removed]",
      "text/latex": [
       "$\\displaystyle \\frac{s}{s^{2} + 1}$"
      ],
      "text/plain": [
       "  s   \n",
       "──────\n",
       " 2    \n",
       "s  + 1"
      ]
     },
     "execution_count": 13,
     "metadata": {},
     "output_type": "execute_result"
    }
   ],
   "source": [
    "# Define the frequency domain function:\n",
    "f2s = s/(s**2+1)\n",
    "f2s"
   ]
  },
  {
   "cell_type": "code",
   "execution_count": 14,
   "id": "cc2be3b32f45a522",
   "metadata": {},
   "outputs": [
    {
     "data": {
      "image/png": "[encoded data removed]",
      "text/latex": [
       "$\\displaystyle \\cos{\\left(t \\right)} \\theta\\left(t\\right)$"
      ],
      "text/plain": [
       "cos(t)⋅θ(t)"
      ]
     },
     "execution_count": 14,
     "metadata": {},
     "output_type": "execute_result"
    }
   ],
   "source": [
    "# Compute the Inverse Laplace Transform:\n",
    "f2 = inverse_laplace_transform(f2s, s, t)\n",
    "f2"
   ]
  },
  {
   "cell_type": "markdown",
   "id": "acec1f739529b35c",
   "metadata": {},
   "source": [
    "3. Evaluate:\n",
    "$$ \\mathcal{L}^{-1}\\frac{1}{s^2+1}= sin(t) $$\n"
   ]
  },
  {
   "cell_type": "code",
   "execution_count": 15,
   "id": "f57378aadbccea1b",
   "metadata": {},
   "outputs": [
    {
     "data": {
      "image/png": "[encoded data removed]",
      "text/latex": [
       "$\\displaystyle \\frac{1}{s^{2} + 1}$"
      ],
      "text/plain": [
       "  1   \n",
       "──────\n",
       " 2    \n",
       "s  + 1"
      ]
     },
     "execution_count": 15,
     "metadata": {},
     "output_type": "execute_result"
    }
   ],
   "source": [
    "# Define the frequency domain function:\n",
    "f3s = 1/(s**2+1)\n",
    "f3s"
   ]
  },
  {
   "cell_type": "code",
   "execution_count": 16,
   "id": "73be5c325787a090",
   "metadata": {},
   "outputs": [
    {
     "data": {
      "image/png": "[encoded data removed]",
      "text/latex": [
       "$\\displaystyle \\sin{\\left(t \\right)} \\theta\\left(t\\right)$"
      ],
      "text/plain": [
       "sin(t)⋅θ(t)"
      ]
     },
     "execution_count": 16,
     "metadata": {},
     "output_type": "execute_result"
    }
   ],
   "source": [
    "# Laplace transform (t->s)\n",
    "f3 = inverse_laplace_transform(f3s, s, t)\n",
    "f3"
   ]
  },
  {
   "cell_type": "markdown",
   "id": "cc8a6f3d4eb62c27",
   "metadata": {},
   "source": [
    "4. Evaluate:\n",
    "\n",
    "$$ \\mathcal{L}^{-1}\\frac{10}{(s+2)^4}= \\frac{5t^3e^{-2t}}{3} $$\n"
   ]
  },
  {
   "cell_type": "code",
   "execution_count": 17,
   "id": "8673cae5e6da292f",
   "metadata": {},
   "outputs": [
    {
     "data": {
      "image/png": "[encoded data removed]",
      "text/latex": [
       "$\\displaystyle \\frac{10}{\\left(s + 2\\right)^{4}}$"
      ],
      "text/plain": [
       "   10   \n",
       "────────\n",
       "       4\n",
       "(s + 2) "
      ]
     },
     "execution_count": 17,
     "metadata": {},
     "output_type": "execute_result"
    }
   ],
   "source": [
    "# Define the frequency domain function:\n",
    "f4s = 10/(s+2)**4\n",
    "f4s"
   ]
  },
  {
   "cell_type": "code",
   "execution_count": 18,
   "id": "eab87f5dd78fb6a3",
   "metadata": {},
   "outputs": [
    {
     "data": {
      "image/png": "[encoded data removed]",
      "text/latex": [
       "$\\displaystyle \\sin{\\left(t \\right)} \\theta\\left(t\\right)$"
      ],
      "text/plain": [
       "sin(t)⋅θ(t)"
      ]
     },
     "execution_count": 18,
     "metadata": {},
     "output_type": "execute_result"
    }
   ],
   "source": [
    "# Compute the Inverse Laplace Transform:\n",
    "f4 = inverse_laplace_transform(f3s, s, t)\n",
    "f4"
   ]
  },
  {
   "cell_type": "markdown",
   "id": "68b66f6b25ebe8be",
   "metadata": {},
   "source": [
    "5. Evaluate:\n",
    "\n",
    "$$ \\mathcal{L}^{-1}\\frac{s+1}{(s+1)^2+4} = e^{-t}cos2t $$\n"
   ]
  },
  {
   "cell_type": "code",
   "execution_count": 19,
   "id": "9a354905f39547d9",
   "metadata": {},
   "outputs": [
    {
     "data": {
      "image/png": "[encoded data removed]",
      "text/latex": [
       "$\\displaystyle \\frac{s + 1}{\\left(s + 1\\right)^{2} + 4}$"
      ],
      "text/plain": [
       "   s + 1    \n",
       "────────────\n",
       "       2    \n",
       "(s + 1)  + 4"
      ]
     },
     "execution_count": 19,
     "metadata": {},
     "output_type": "execute_result"
    }
   ],
   "source": [
    "# Define the frequency domain function:\n",
    "f5s = (s+1)/((s+1)**2+4)\n",
    "f5s\n"
   ]
  },
  {
   "cell_type": "code",
   "execution_count": 20,
   "id": "f1994f874d0ab0b0",
   "metadata": {},
   "outputs": [
    {
     "data": {
      "image/png": "[encoded data removed]",
      "text/latex": [
       "$\\displaystyle e^{- t} \\cos{\\left(2 t \\right)} \\theta\\left(t\\right)$"
      ],
      "text/plain": [
       " -t              \n",
       "ℯ  ⋅cos(2⋅t)⋅θ(t)"
      ]
     },
     "execution_count": 20,
     "metadata": {},
     "output_type": "execute_result"
    }
   ],
   "source": [
    "# Compute the Inverse Laplace Transform:\n",
    "f5 = inverse_laplace_transform(f5s, s, t)\n",
    "f5"
   ]
  },
  {
   "cell_type": "markdown",
   "id": "a3dd0c221c8428fa",
   "metadata": {},
   "source": [
    "6. Evaluate:\n",
    "\n",
    "$$ \\mathcal{L}^{-1}\\frac{15}{(s-1)^2-9} = 5e^{t}sinh3t $$\n"
   ]
  },
  {
   "cell_type": "code",
   "execution_count": 21,
   "id": "4787fce131364013",
   "metadata": {},
   "outputs": [
    {
     "data": {
      "image/png": "[encoded data removed]",
      "text/latex": [
       "$\\displaystyle \\frac{15}{\\left(s - 1\\right)^{2} - 9}$"
      ],
      "text/plain": [
       "     15     \n",
       "────────────\n",
       "       2    \n",
       "(s - 1)  - 9"
      ]
     },
     "execution_count": 21,
     "metadata": {},
     "output_type": "execute_result"
    }
   ],
   "source": [
    "# Define the frequency domain function:\n",
    "f6s = 15/((s-1)**2-9)\n",
    "f6s"
   ]
  },
  {
   "cell_type": "code",
   "execution_count": 22,
   "id": "d0cb6aa051820961",
   "metadata": {},
   "outputs": [
    {
     "data": {
      "image/png": "[encoded data removed]",
      "text/latex": [
       "$\\displaystyle \\frac{5 e^{4 t} \\theta\\left(t\\right)}{2} - \\frac{5 e^{- 2 t} \\theta\\left(t\\right)}{2}$"
      ],
      "text/plain": [
       "   4⋅t           -2⋅t     \n",
       "5⋅ℯ   ⋅θ(t)   5⋅ℯ    ⋅θ(t)\n",
       "─────────── - ────────────\n",
       "     2             2      "
      ]
     },
     "execution_count": 22,
     "metadata": {},
     "output_type": "execute_result"
    }
   ],
   "source": [
    "# Compute the Inverse Laplace Transform:\n",
    "f6 = inverse_laplace_transform(f6s, s, t)\n",
    "f6"
   ]
  },
  {
   "cell_type": "markdown",
   "id": "14e6426041002c13",
   "metadata": {},
   "source": [
    "7. Evaluate:\n",
    "\n",
    "$$ \\mathcal{L}^{-1}\\frac{4s-1}{s^2-s}= 1 + 3e^t $$\n"
   ]
  },
  {
   "cell_type": "code",
   "execution_count": 23,
   "id": "e3905dc0d8264487",
   "metadata": {},
   "outputs": [
    {
     "data": {
      "image/png": "[encoded data removed]",
      "text/latex": [
       "$\\displaystyle \\frac{4 s - 1}{s^{2} - s}$"
      ],
      "text/plain": [
       "4⋅s - 1\n",
       "───────\n",
       " 2     \n",
       "s  - s "
      ]
     },
     "execution_count": 23,
     "metadata": {},
     "output_type": "execute_result"
    }
   ],
   "source": [
    "# Define the frequency domain function:\n",
    "f7s = (4*s - 1)/(s**2 - s)\n",
    "f7s"
   ]
  },
  {
   "cell_type": "code",
   "execution_count": 24,
   "id": "e91f76e4c0c7315a",
   "metadata": {},
   "outputs": [
    {
     "data": {
      "image/png": "[encoded data removed]",
      "text/latex": [
       "$\\displaystyle 3 e^{t} \\theta\\left(t\\right) + \\theta\\left(t\\right)$"
      ],
      "text/plain": [
       "   t            \n",
       "3⋅ℯ ⋅θ(t) + θ(t)"
      ]
     },
     "execution_count": 24,
     "metadata": {},
     "output_type": "execute_result"
    }
   ],
   "source": [
    "# Compute the Inverse Laplace Transform:\n",
    "f7 = inverse_laplace_transform(f7s, s, t)\n",
    "f7"
   ]
  },
  {
   "cell_type": "code",
   "execution_count": null,
   "id": "3512795ab409d683",
   "metadata": {},
   "outputs": [],
   "source": []
  }
 ],
 "metadata": {
  "kernelspec": {
   "display_name": "Python 3 (ipykernel)",
   "language": "python",
   "name": "python3"
  },
  "language_info": {
   "codemirror_mode": {
    "name": "ipython",
    "version": 3
   },
   "file_extension": ".py",
   "mimetype": "text/x-python",
   "name": "python",
   "nbconvert_exporter": "python",
   "pygments_lexer": "ipython3",
   "version": "3.12.11"
  }
 },
 "nbformat": 4,
 "nbformat_minor": 5
}
