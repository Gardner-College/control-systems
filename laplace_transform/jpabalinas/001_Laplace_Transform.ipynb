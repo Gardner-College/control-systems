{
 "cells": [
  {
   "cell_type": "markdown",
   "metadata": {},
   "source": [
    "- **Name:** Jhon Allen Pabalinas\n",
    "- **Term:** 2nd YR/ 3rd Term"
   ]
  },
  {
   "cell_type": "markdown",
   "metadata": {},
   "source": [
    "##### Required Python Packages\n",
    "Run the following applications once if they are not yet installed in your Python environment:"
   ]
  },
  {
   "cell_type": "code",
   "execution_count": 1,
   "metadata": {},
   "outputs": [
    {
     "name": "stdout",
     "output_type": "stream",
     "text": [
      "Requirement already satisfied: numpy in c:\\users\\allen\\anaconda3\\envs\\control-systems\\lib\\site-packages (2.3.1)\n"
     ]
    }
   ],
   "source": [
    "!pip install numpy"
   ]
  },
  {
   "cell_type": "code",
   "execution_count": 2,
   "metadata": {},
   "outputs": [
    {
     "name": "stdout",
     "output_type": "stream",
     "text": [
      "Requirement already satisfied: scipy in c:\\users\\allen\\anaconda3\\envs\\control-systems\\lib\\site-packages (1.16.0)\n",
      "Requirement already satisfied: numpy<2.6,>=1.25.2 in c:\\users\\allen\\anaconda3\\envs\\control-systems\\lib\\site-packages (from scipy) (2.3.1)\n"
     ]
    }
   ],
   "source": [
    "!pip install scipy"
   ]
  },
  {
   "cell_type": "code",
   "execution_count": 3,
   "metadata": {},
   "outputs": [
    {
     "name": "stdout",
     "output_type": "stream",
     "text": [
      "Requirement already satisfied: matplotlib in c:\\users\\allen\\anaconda3\\envs\\control-systems\\lib\\site-packages (3.10.3)\n",
      "Requirement already satisfied: contourpy>=1.0.1 in c:\\users\\allen\\anaconda3\\envs\\control-systems\\lib\\site-packages (from matplotlib) (1.3.2)\n",
      "Requirement already satisfied: cycler>=0.10 in c:\\users\\allen\\anaconda3\\envs\\control-systems\\lib\\site-packages (from matplotlib) (0.12.1)\n",
      "Requirement already satisfied: fonttools>=4.22.0 in c:\\users\\allen\\anaconda3\\envs\\control-systems\\lib\\site-packages (from matplotlib) (4.58.4)\n",
      "Requirement already satisfied: kiwisolver>=1.3.1 in c:\\users\\allen\\anaconda3\\envs\\control-systems\\lib\\site-packages (from matplotlib) (1.4.8)\n",
      "Requirement already satisfied: numpy>=1.23 in c:\\users\\allen\\anaconda3\\envs\\control-systems\\lib\\site-packages (from matplotlib) (2.3.1)\n",
      "Requirement already satisfied: packaging>=20.0 in c:\\users\\allen\\anaconda3\\envs\\control-systems\\lib\\site-packages (from matplotlib) (24.2)\n",
      "Requirement already satisfied: pillow>=8 in c:\\users\\allen\\anaconda3\\envs\\control-systems\\lib\\site-packages (from matplotlib) (11.2.1)\n",
      "Requirement already satisfied: pyparsing>=2.3.1 in c:\\users\\allen\\anaconda3\\envs\\control-systems\\lib\\site-packages (from matplotlib) (3.2.3)\n",
      "Requirement already satisfied: python-dateutil>=2.7 in c:\\users\\allen\\anaconda3\\envs\\control-systems\\lib\\site-packages (from matplotlib) (2.9.0.post0)\n",
      "Requirement already satisfied: six>=1.5 in c:\\users\\allen\\anaconda3\\envs\\control-systems\\lib\\site-packages (from python-dateutil>=2.7->matplotlib) (1.17.0)\n"
     ]
    }
   ],
   "source": [
    "!pip install matplotlib"
   ]
  },
  {
   "cell_type": "code",
   "execution_count": 4,
   "metadata": {},
   "outputs": [
    {
     "name": "stdout",
     "output_type": "stream",
     "text": [
      "Requirement already satisfied: panda in c:\\users\\allen\\anaconda3\\envs\\control-systems\\lib\\site-packages (0.3.1)\n",
      "Requirement already satisfied: setuptools in c:\\users\\allen\\anaconda3\\envs\\control-systems\\lib\\site-packages (from panda) (78.1.1)\n",
      "Requirement already satisfied: requests in c:\\users\\allen\\anaconda3\\envs\\control-systems\\lib\\site-packages (from panda) (2.32.4)\n",
      "Requirement already satisfied: charset_normalizer<4,>=2 in c:\\users\\allen\\anaconda3\\envs\\control-systems\\lib\\site-packages (from requests->panda) (3.3.2)\n",
      "Requirement already satisfied: idna<4,>=2.5 in c:\\users\\allen\\anaconda3\\envs\\control-systems\\lib\\site-packages (from requests->panda) (3.7)\n",
      "Requirement already satisfied: urllib3<3,>=1.21.1 in c:\\users\\allen\\anaconda3\\envs\\control-systems\\lib\\site-packages (from requests->panda) (2.5.0)\n",
      "Requirement already satisfied: certifi>=2017.4.17 in c:\\users\\allen\\anaconda3\\envs\\control-systems\\lib\\site-packages (from requests->panda) (2025.4.26)\n"
     ]
    }
   ],
   "source": [
    "!pip install panda"
   ]
  },
  {
   "cell_type": "code",
   "execution_count": 5,
   "metadata": {},
   "outputs": [
    {
     "name": "stdout",
     "output_type": "stream",
     "text": [
      "Requirement already satisfied: gekko in c:\\users\\allen\\anaconda3\\envs\\control-systems\\lib\\site-packages (1.3.0)\n",
      "Requirement already satisfied: numpy>=1.8 in c:\\users\\allen\\anaconda3\\envs\\control-systems\\lib\\site-packages (from gekko) (2.3.1)\n"
     ]
    }
   ],
   "source": [
    "!pip install gekko"
   ]
  },
  {
   "cell_type": "code",
   "execution_count": 6,
   "metadata": {},
   "outputs": [
    {
     "name": "stdout",
     "output_type": "stream",
     "text": [
      "Requirement already satisfied: scikit-learn in c:\\users\\allen\\anaconda3\\envs\\control-systems\\lib\\site-packages (1.7.0)\n",
      "Requirement already satisfied: numpy>=1.22.0 in c:\\users\\allen\\anaconda3\\envs\\control-systems\\lib\\site-packages (from scikit-learn) (2.3.1)\n",
      "Requirement already satisfied: scipy>=1.8.0 in c:\\users\\allen\\anaconda3\\envs\\control-systems\\lib\\site-packages (from scikit-learn) (1.16.0)\n",
      "Requirement already satisfied: joblib>=1.2.0 in c:\\users\\allen\\anaconda3\\envs\\control-systems\\lib\\site-packages (from scikit-learn) (1.5.1)\n",
      "Requirement already satisfied: threadpoolctl>=3.1.0 in c:\\users\\allen\\anaconda3\\envs\\control-systems\\lib\\site-packages (from scikit-learn) (3.6.0)\n"
     ]
    }
   ],
   "source": [
    "!pip install scikit-learn"
   ]
  },
  {
   "cell_type": "code",
   "execution_count": 7,
   "metadata": {},
   "outputs": [
    {
     "name": "stdout",
     "output_type": "stream",
     "text": [
      "Requirement already satisfied: sympy in c:\\users\\allen\\anaconda3\\envs\\control-systems\\lib\\site-packages (1.14.0)\n",
      "Requirement already satisfied: mpmath<1.4,>=1.1.0 in c:\\users\\allen\\anaconda3\\envs\\control-systems\\lib\\site-packages (from sympy) (1.3.0)\n"
     ]
    }
   ],
   "source": [
    "!pip install sympy"
   ]
  },
  {
   "cell_type": "markdown",
   "metadata": {},
   "source": [
    "### Machine Problem 001: Laplace Transforms and Sympy\n",
    "\n",
    "Laplace transforms convert a function $f(t)$ in the time domain into function in the Laplace domain $F(s)$.\n",
    "\n",
    "$F(s) = \\mathcal{L}\\left(f(t)\\right) = \\int_0^\\infty f(t)e^{-s\\,t}dt$\n",
    "\n",
    "The SymPy library is a symbolic mathematics library written for Python that can be used to perform analytical calculations. This library can be very useful for control system design and analysis."
   ]
  },
  {
   "cell_type": "markdown",
   "metadata": {},
   "source": [
    "### Table of Common Laplace Transforms\n",
    "Mathematicians have developed tables of commonly used Laplace transforms. Here is summary table with a few of the entries that will be most common for analysis of linear differential equations.\n",
    "\n",
    "| **Item no.** | **f(t)**                | **F(s)**                           |\n",
    "|--------------|-------------------------|------------------------------------|\n",
    "| 1.           | $ \\delta(t) $           | $ 1 $                              |\n",
    "| 2.           | $ u(t) $                | $ \\frac{1}{s} $                    |\n",
    "| 3.           | $ tu(t) $               | $ \\frac{1}{s^2} $                  |\n",
    "| 4.           | $ t^n u(t) $            | $ \\frac{n!}{s^{n+1}} $             |\n",
    "| 5.           | $ e^{-at}u(t) $         | $ \\frac{1}{s + a} $                |\n",
    "| 6.           | $ \\sin(\\omega t)u(t) $  | $ \\frac{\\omega}{s^2 + \\omega^2} $  |\n",
    "| 7.           | $ \\cos(\\omega t)u(t) $  | $ \\frac{s}{s^2 + \\omega^2} $       |\n"
   ]
  },
  {
   "cell_type": "code",
   "execution_count": 11,
   "metadata": {},
   "outputs": [],
   "source": [
    "import sympy as sym\n",
    "from sympy.abc import s,t,u,x,y,z,a,b,c,k\n",
    "from sympy.integrals import laplace_transform"
   ]
  },
  {
   "cell_type": "code",
   "execution_count": 12,
   "metadata": {},
   "outputs": [],
   "source": [
    "# For pretty  printing\n",
    "sym.init_printing()"
   ]
  },
  {
   "cell_type": "code",
   "execution_count": 13,
   "metadata": {},
   "outputs": [],
   "source": [
    "# Define variables for time 't' and complex variable 's'\n",
    "# t = sym.symbols('t', real=True)\n",
    "# s = sym.symbols('s')\n",
    "\n",
    "# Define a constant:\n",
    "# a = sym.symbols('a', real=True, positive=True)"
   ]
  },
  {
   "cell_type": "markdown",
   "metadata": {},
   "source": [
    "1. Evaluate:\n",
    "\n",
    "$$ \\mathcal{L}\\{\\delta(t)\\} = 1 $$\n",
    "\n",
    "As an example of the Laplace transform, consider a constant $1$. The function $f(t) = 1$ and the following expression is integrated. \n",
    "\n",
    "$\\mathcal{L}(1)=\\int_0^\\infty 1 \\, e^{-s\\,t} dt = -\\frac{1}{s}e^{-s\\,t} \\biggr\\rvert_0^\\infty = 0 - \\left(-\\frac{1}{s} \\right) = \\frac{1}{s}$\n",
    "\n",
    "Notice that the derived value for a constant $1$ is the unit step function with $f(t)=1$ where a signal output changes from 0 to 1 at $time=0$. \n"
   ]
  },
  {
   "cell_type": "code",
   "execution_count": 14,
   "metadata": {},
   "outputs": [],
   "source": [
    "# Define the time domain function:"
   ]
  },
  {
   "cell_type": "code",
   "execution_count": 15,
   "metadata": {},
   "outputs": [],
   "source": [
    "# Compute the Laplace Transform:"
   ]
  },
  {
   "cell_type": "markdown",
   "metadata": {},
   "source": [
    "2. Evaluate:\n",
    "\n",
    "$$ \\mathcal{L}\\{u(t)\\} = \\frac{1}{s} $$\n"
   ]
  },
  {
   "cell_type": "code",
   "execution_count": 16,
   "metadata": {},
   "outputs": [],
   "source": [
    "# Define the time domain function:"
   ]
  },
  {
   "cell_type": "code",
   "execution_count": 17,
   "metadata": {},
   "outputs": [],
   "source": [
    "# Compute the Laplace Transform:"
   ]
  },
  {
   "attachments": {},
   "cell_type": "markdown",
   "metadata": {},
   "source": [
    "3. Evaluate:\n",
    "$$ \\mathcal{L}\\{tu(t)\\} = \\frac{1}{s^2} $$\n",
    "$$ \\mathcal{L}\\{5t\\} = \\frac{5}{s^2} $$\n"
   ]
  },
  {
   "cell_type": "code",
   "execution_count": 18,
   "metadata": {},
   "outputs": [
    {
     "data": {
      "image/png": "[encoded data removed]",
      "text/latex": [
       "$\\displaystyle \\frac{5}{s^{2}}$"
      ],
      "text/plain": [
       "5 \n",
       "──\n",
       " 2\n",
       "s "
      ]
     },
     "execution_count": 18,
     "metadata": {},
     "output_type": "execute_result"
    }
   ],
   "source": [
    "# Laplace transform (t->s)\n",
    "U = laplace_transform(5*t, t, s)\n",
    "U[0]"
   ]
  },
  {
   "cell_type": "markdown",
   "metadata": {},
   "source": [
    "4. Evaluate:\n",
    "\n",
    "$$ \\mathcal{L}\\{t^n u(t)\\} = \\frac{n!}{s^{n+1}} $$\n"
   ]
  },
  {
   "cell_type": "code",
   "execution_count": 19,
   "metadata": {},
   "outputs": [],
   "source": [
    "# Define the time domain function:"
   ]
  },
  {
   "cell_type": "code",
   "execution_count": 20,
   "metadata": {},
   "outputs": [],
   "source": [
    "# Compute the Laplace Transform:"
   ]
  },
  {
   "attachments": {},
   "cell_type": "markdown",
   "metadata": {},
   "source": [
    "5. Evaluate:\n",
    "\n",
    "$$ \\mathcal{L}\\{e^{-at}u(t)\\} = \\frac{1}{s + a} $$\n",
    "Solution:\n",
    "$$ \\mathcal{L}\\{e^{-at}\\} = \\int_0^\\infty \\, e^{-a\\,t} e^{-s\\,t} dt $$\n",
    "$$ = \\int_0^\\infty \\, e^{-(s+a)\\,t} dt $$\n",
    "$$ = \\frac{e^{-(s+a)t}}{-(s+a)} \\biggr\\rvert_0^\\infty $$\n",
    "$$ = 0 - \\left(-\\frac{1}{s+a} \\right) = \\frac{1}{s+a} $$"
   ]
  },
  {
   "cell_type": "code",
   "execution_count": 21,
   "metadata": {},
   "outputs": [
    {
     "data": {
      "image/png": "[encoded data removed]",
      "text/latex": [
       "$\\displaystyle e^{- a t}$"
      ],
      "text/plain": [
       " -a⋅t\n",
       "ℯ    "
      ]
     },
     "execution_count": 21,
     "metadata": {},
     "output_type": "execute_result"
    }
   ],
   "source": [
    "# Define the time domain function:\n",
    "f5 = sym.exp(-a*t)\n",
    "f5"
   ]
  },
  {
   "cell_type": "code",
   "execution_count": 28,
   "metadata": {},
   "outputs": [
    {
     "ename": "NameError",
     "evalue": "name 'f1' is not defined",
     "output_type": "error",
     "traceback": [
      "\u001b[31m---------------------------------------------------------------------------\u001b[39m",
      "\u001b[31mNameError\u001b[39m                                 Traceback (most recent call last)",
      "\u001b[36mCell\u001b[39m\u001b[36m \u001b[39m\u001b[32mIn[28]\u001b[39m\u001b[32m, line 2\u001b[39m\n\u001b[32m      1\u001b[39m \u001b[38;5;66;03m# Compute the Laplace Transform:\u001b[39;00m\n\u001b[32m----> \u001b[39m\u001b[32m2\u001b[39m f5s = laplace_transform(f1, t, s, noconds=\u001b[38;5;28;01mTrue\u001b[39;00m)\n\u001b[32m      3\u001b[39m f5s\n",
      "\u001b[31mNameError\u001b[39m: name 'f1' is not defined"
     ]
    }
   ],
   "source": [
    "# Compute the Laplace Transform:\n",
    "f5s = laplace_transform(f1, t, s, noconds=True)\n",
    "f5s"
   ]
  },
  {
   "cell_type": "markdown",
   "metadata": {},
   "source": [
    "6. Evaluate:\n",
    "\n",
    "$$ \\mathcal{L}\\{\\sin(\\omega t)u(t)\\} = \\frac{\\omega}{s^2 + \\omega^2} $$\n",
    "$$ \\mathcal{L}\\{\\sin(4t)\\} = \\frac{\\omega}{s^2 + \\omega^2} $$\n"
   ]
  },
  {
   "cell_type": "code",
   "execution_count": 29,
   "metadata": {},
   "outputs": [],
   "source": [
    "# Define the time domain function:"
   ]
  },
  {
   "cell_type": "code",
   "execution_count": 30,
   "metadata": {},
   "outputs": [],
   "source": [
    "# Compute the Laplace Transform:"
   ]
  },
  {
   "cell_type": "markdown",
   "metadata": {},
   "source": [
    "7. Evaluate:\n",
    "\n",
    "$$ \\mathcal{L}\\{\\cos(\\omega t)u(t)\\} = \\frac{s}{s^2 + \\omega^2} $$\n",
    "$$ \\mathcal{L}\\{\\cos(\\frac{t}{2})\\} = \\frac{s}{s^2 + \\omega^2} $$\n"
   ]
  },
  {
   "cell_type": "code",
   "execution_count": 33,
   "metadata": {},
   "outputs": [],
   "source": [
    "# Define the time domain function:"
   ]
  }
 ],
 "metadata": {
  "kernelspec": {
   "display_name": "Python 3 (ipykernel)",
   "language": "python",
   "name": "python3"
  },
  "language_info": {
   "codemirror_mode": {
    "name": "ipython",
    "version": 3
   },
   "file_extension": ".py",
   "mimetype": "text/x-python",
   "name": "python",
   "nbconvert_exporter": "python",
   "pygments_lexer": "ipython3",
   "version": "3.12.11"
  }
 },
 "nbformat": 4,
 "nbformat_minor": 4
}
