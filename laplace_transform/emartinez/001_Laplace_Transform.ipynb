{
 "cells": [
  {
   "cell_type": "markdown",
   "metadata": {},
   "source": [
    "- **Name:** Ernesto T. Martinez Jr\n",
    "- **Term:** 2nd Year - Term 3"
   ]
  },
  {
   "cell_type": "markdown",
   "metadata": {},
   "source": [
    "##### Required Python Packages\n",
    "Run the following applications once if they are not yet installed in your Python environment:"
   ]
  },
  {
   "cell_type": "code",
   "execution_count": 2,
   "metadata": {},
   "outputs": [
    {
     "name": "stdout",
     "output_type": "stream",
     "text": [
      "Requirement already satisfied: numpy in c:\\users\\ernesto martinez\\anaconda3\\envs\\controlsystems\\lib\\site-packages (2.3.0)\n"
     ]
    }
   ],
   "source": [
    "!pip install numpy"
   ]
  },
  {
   "cell_type": "code",
   "execution_count": 6,
   "metadata": {},
   "outputs": [
    {
     "name": "stdout",
     "output_type": "stream",
     "text": [
      "Requirement already satisfied: scipy in c:\\users\\ernesto martinez\\anaconda3\\envs\\controlsystems\\lib\\site-packages (1.15.3)\n",
      "Requirement already satisfied: numpy<2.5,>=1.23.5 in c:\\users\\ernesto martinez\\anaconda3\\envs\\controlsystems\\lib\\site-packages (from scipy) (2.3.0)\n"
     ]
    }
   ],
   "source": [
    "!pip install scipy"
   ]
  },
  {
   "cell_type": "code",
   "execution_count": 7,
   "metadata": {},
   "outputs": [
    {
     "name": "stdout",
     "output_type": "stream",
     "text": [
      "Requirement already satisfied: matplotlib in c:\\users\\ernesto martinez\\anaconda3\\envs\\controlsystems\\lib\\site-packages (3.10.3)\n",
      "Requirement already satisfied: contourpy>=1.0.1 in c:\\users\\ernesto martinez\\anaconda3\\envs\\controlsystems\\lib\\site-packages (from matplotlib) (1.3.2)\n",
      "Requirement already satisfied: cycler>=0.10 in c:\\users\\ernesto martinez\\anaconda3\\envs\\controlsystems\\lib\\site-packages (from matplotlib) (0.12.1)\n",
      "Requirement already satisfied: fonttools>=4.22.0 in c:\\users\\ernesto martinez\\anaconda3\\envs\\controlsystems\\lib\\site-packages (from matplotlib) (4.58.2)\n",
      "Requirement already satisfied: kiwisolver>=1.3.1 in c:\\users\\ernesto martinez\\anaconda3\\envs\\controlsystems\\lib\\site-packages (from matplotlib) (1.4.8)\n",
      "Requirement already satisfied: numpy>=1.23 in c:\\users\\ernesto martinez\\anaconda3\\envs\\controlsystems\\lib\\site-packages (from matplotlib) (2.3.0)\n",
      "Requirement already satisfied: packaging>=20.0 in c:\\users\\ernesto martinez\\anaconda3\\envs\\controlsystems\\lib\\site-packages (from matplotlib) (24.2)\n",
      "Requirement already satisfied: pillow>=8 in c:\\users\\ernesto martinez\\anaconda3\\envs\\controlsystems\\lib\\site-packages (from matplotlib) (11.2.1)\n",
      "Requirement already satisfied: pyparsing>=2.3.1 in c:\\users\\ernesto martinez\\anaconda3\\envs\\controlsystems\\lib\\site-packages (from matplotlib) (3.2.3)\n",
      "Requirement already satisfied: python-dateutil>=2.7 in c:\\users\\ernesto martinez\\anaconda3\\envs\\controlsystems\\lib\\site-packages (from matplotlib) (2.9.0.post0)\n",
      "Requirement already satisfied: six>=1.5 in c:\\users\\ernesto martinez\\anaconda3\\envs\\controlsystems\\lib\\site-packages (from python-dateutil>=2.7->matplotlib) (1.17.0)\n"
     ]
    }
   ],
   "source": [
    "!pip install matplotlib"
   ]
  },
  {
   "cell_type": "code",
   "execution_count": 9,
   "metadata": {},
   "outputs": [
    {
     "name": "stdout",
     "output_type": "stream",
     "text": [
      "Requirement already satisfied: panda in c:\\users\\ernesto martinez\\anaconda3\\envs\\controlsystems\\lib\\site-packages (0.3.1)\n",
      "Requirement already satisfied: setuptools in c:\\users\\ernesto martinez\\anaconda3\\envs\\controlsystems\\lib\\site-packages (from panda) (78.1.1)\n",
      "Requirement already satisfied: requests in c:\\users\\ernesto martinez\\anaconda3\\envs\\controlsystems\\lib\\site-packages (from panda) (2.32.3)\n",
      "Requirement already satisfied: charset-normalizer<4,>=2 in c:\\users\\ernesto martinez\\anaconda3\\envs\\controlsystems\\lib\\site-packages (from requests->panda) (3.3.2)\n",
      "Requirement already satisfied: idna<4,>=2.5 in c:\\users\\ernesto martinez\\anaconda3\\envs\\controlsystems\\lib\\site-packages (from requests->panda) (3.7)\n",
      "Requirement already satisfied: urllib3<3,>=1.21.1 in c:\\users\\ernesto martinez\\anaconda3\\envs\\controlsystems\\lib\\site-packages (from requests->panda) (2.3.0)\n",
      "Requirement already satisfied: certifi>=2017.4.17 in c:\\users\\ernesto martinez\\anaconda3\\envs\\controlsystems\\lib\\site-packages (from requests->panda) (2025.4.26)\n"
     ]
    }
   ],
   "source": [
    "!pip install panda"
   ]
  },
  {
   "cell_type": "code",
   "execution_count": 10,
   "metadata": {},
   "outputs": [
    {
     "name": "stdout",
     "output_type": "stream",
     "text": [
      "Collecting gekko\n",
      "  Downloading gekko-1.3.0-py3-none-any.whl.metadata (3.0 kB)\n",
      "Requirement already satisfied: numpy>=1.8 in c:\\users\\ernesto martinez\\anaconda3\\envs\\controlsystems\\lib\\site-packages (from gekko) (2.3.0)\n",
      "Downloading gekko-1.3.0-py3-none-any.whl (13.2 MB)\n",
      "   ---------------------------------------- 0.0/13.2 MB ? eta -:--:--\n",
      "   --- ------------------------------------ 1.0/13.2 MB 5.6 MB/s eta 0:00:03\n",
      "   ------- -------------------------------- 2.4/13.2 MB 5.8 MB/s eta 0:00:02\n",
      "   ----------- ---------------------------- 3.7/13.2 MB 5.9 MB/s eta 0:00:02\n",
      "   -------------- ------------------------- 4.7/13.2 MB 5.8 MB/s eta 0:00:02\n",
      "   ------------------ --------------------- 6.0/13.2 MB 5.9 MB/s eta 0:00:02\n",
      "   ---------------------- ----------------- 7.3/13.2 MB 5.9 MB/s eta 0:00:01\n",
      "   ------------------------- -------------- 8.4/13.2 MB 5.8 MB/s eta 0:00:01\n",
      "   ----------------------------- ---------- 9.7/13.2 MB 5.9 MB/s eta 0:00:01\n",
      "   --------------------------------- ------ 11.0/13.2 MB 5.8 MB/s eta 0:00:01\n",
      "   ------------------------------------- -- 12.3/13.2 MB 5.8 MB/s eta 0:00:01\n",
      "   ---------------------------------------- 13.2/13.2 MB 5.8 MB/s eta 0:00:00\n",
      "Installing collected packages: gekko\n",
      "Successfully installed gekko-1.3.0\n"
     ]
    }
   ],
   "source": [
    "!pip install gekko"
   ]
  },
  {
   "cell_type": "code",
   "execution_count": 11,
   "metadata": {},
   "outputs": [
    {
     "name": "stdout",
     "output_type": "stream",
     "text": [
      "Collecting scikit-learn\n",
      "  Downloading scikit_learn-1.7.0-cp312-cp312-win_amd64.whl.metadata (14 kB)\n",
      "Requirement already satisfied: numpy>=1.22.0 in c:\\users\\ernesto martinez\\anaconda3\\envs\\controlsystems\\lib\\site-packages (from scikit-learn) (2.3.0)\n",
      "Requirement already satisfied: scipy>=1.8.0 in c:\\users\\ernesto martinez\\anaconda3\\envs\\controlsystems\\lib\\site-packages (from scikit-learn) (1.15.3)\n",
      "Collecting joblib>=1.2.0 (from scikit-learn)\n",
      "  Downloading joblib-1.5.1-py3-none-any.whl.metadata (5.6 kB)\n",
      "Collecting threadpoolctl>=3.1.0 (from scikit-learn)\n",
      "  Downloading threadpoolctl-3.6.0-py3-none-any.whl.metadata (13 kB)\n",
      "Downloading scikit_learn-1.7.0-cp312-cp312-win_amd64.whl (10.7 MB)\n",
      "   ---------------------------------------- 0.0/10.7 MB ? eta -:--:--\n",
      "   --- ------------------------------------ 1.0/10.7 MB 6.3 MB/s eta 0:00:02\n",
      "   ------- -------------------------------- 2.1/10.7 MB 5.6 MB/s eta 0:00:02\n",
      "   ------------ --------------------------- 3.4/10.7 MB 5.8 MB/s eta 0:00:02\n",
      "   ---------------- ----------------------- 4.5/10.7 MB 5.6 MB/s eta 0:00:02\n",
      "   -------------------- ------------------- 5.5/10.7 MB 5.2 MB/s eta 0:00:01\n",
      "   ------------------------ --------------- 6.6/10.7 MB 5.4 MB/s eta 0:00:01\n",
      "   ----------------------------- ---------- 7.9/10.7 MB 5.5 MB/s eta 0:00:01\n",
      "   ---------------------------------- ----- 9.2/10.7 MB 5.5 MB/s eta 0:00:01\n",
      "   ---------------------------------------  10.5/10.7 MB 5.5 MB/s eta 0:00:01\n",
      "   ---------------------------------------- 10.7/10.7 MB 5.5 MB/s eta 0:00:00\n",
      "Downloading joblib-1.5.1-py3-none-any.whl (307 kB)\n",
      "Downloading threadpoolctl-3.6.0-py3-none-any.whl (18 kB)\n",
      "Installing collected packages: threadpoolctl, joblib, scikit-learn\n",
      "\n",
      "   ------------- -------------------------- 1/3 [joblib]\n",
      "   ------------- -------------------------- 1/3 [joblib]\n",
      "   ------------- -------------------------- 1/3 [joblib]\n",
      "   -------------------------- ------------- 2/3 [scikit-learn]\n",
      "   -------------------------- ------------- 2/3 [scikit-learn]\n",
      "   -------------------------- ------------- 2/3 [scikit-learn]\n",
      "   -------------------------- ------------- 2/3 [scikit-learn]\n",
      "   -------------------------- ------------- 2/3 [scikit-learn]\n",
      "   -------------------------- ------------- 2/3 [scikit-learn]\n",
      "   -------------------------- ------------- 2/3 [scikit-learn]\n",
      "   -------------------------- ------------- 2/3 [scikit-learn]\n",
      "   -------------------------- ------------- 2/3 [scikit-learn]\n",
      "   -------------------------- ------------- 2/3 [scikit-learn]\n",
      "   -------------------------- ------------- 2/3 [scikit-learn]\n",
      "   -------------------------- ------------- 2/3 [scikit-learn]\n",
      "   -------------------------- ------------- 2/3 [scikit-learn]\n",
      "   -------------------------- ------------- 2/3 [scikit-learn]\n",
      "   -------------------------- ------------- 2/3 [scikit-learn]\n",
      "   -------------------------- ------------- 2/3 [scikit-learn]\n",
      "   -------------------------- ------------- 2/3 [scikit-learn]\n",
      "   -------------------------- ------------- 2/3 [scikit-learn]\n",
      "   -------------------------- ------------- 2/3 [scikit-learn]\n",
      "   -------------------------- ------------- 2/3 [scikit-learn]\n",
      "   -------------------------- ------------- 2/3 [scikit-learn]\n",
      "   -------------------------- ------------- 2/3 [scikit-learn]\n",
      "   -------------------------- ------------- 2/3 [scikit-learn]\n",
      "   -------------------------- ------------- 2/3 [scikit-learn]\n",
      "   -------------------------- ------------- 2/3 [scikit-learn]\n",
      "   -------------------------- ------------- 2/3 [scikit-learn]\n",
      "   -------------------------- ------------- 2/3 [scikit-learn]\n",
      "   -------------------------- ------------- 2/3 [scikit-learn]\n",
      "   -------------------------- ------------- 2/3 [scikit-learn]\n",
      "   -------------------------- ------------- 2/3 [scikit-learn]\n",
      "   -------------------------- ------------- 2/3 [scikit-learn]\n",
      "   -------------------------- ------------- 2/3 [scikit-learn]\n",
      "   -------------------------- ------------- 2/3 [scikit-learn]\n",
      "   -------------------------- ------------- 2/3 [scikit-learn]\n",
      "   -------------------------- ------------- 2/3 [scikit-learn]\n",
      "   -------------------------- ------------- 2/3 [scikit-learn]\n",
      "   -------------------------- ------------- 2/3 [scikit-learn]\n",
      "   -------------------------- ------------- 2/3 [scikit-learn]\n",
      "   -------------------------- ------------- 2/3 [scikit-learn]\n",
      "   -------------------------- ------------- 2/3 [scikit-learn]\n",
      "   -------------------------- ------------- 2/3 [scikit-learn]\n",
      "   -------------------------- ------------- 2/3 [scikit-learn]\n",
      "   -------------------------- ------------- 2/3 [scikit-learn]\n",
      "   -------------------------- ------------- 2/3 [scikit-learn]\n",
      "   -------------------------- ------------- 2/3 [scikit-learn]\n",
      "   -------------------------- ------------- 2/3 [scikit-learn]\n",
      "   -------------------------- ------------- 2/3 [scikit-learn]\n",
      "   -------------------------- ------------- 2/3 [scikit-learn]\n",
      "   -------------------------- ------------- 2/3 [scikit-learn]\n",
      "   -------------------------- ------------- 2/3 [scikit-learn]\n",
      "   -------------------------- ------------- 2/3 [scikit-learn]\n",
      "   -------------------------- ------------- 2/3 [scikit-learn]\n",
      "   -------------------------- ------------- 2/3 [scikit-learn]\n",
      "   -------------------------- ------------- 2/3 [scikit-learn]\n",
      "   -------------------------- ------------- 2/3 [scikit-learn]\n",
      "   -------------------------- ------------- 2/3 [scikit-learn]\n",
      "   -------------------------- ------------- 2/3 [scikit-learn]\n",
      "   -------------------------- ------------- 2/3 [scikit-learn]\n",
      "   -------------------------- ------------- 2/3 [scikit-learn]\n",
      "   -------------------------- ------------- 2/3 [scikit-learn]\n",
      "   -------------------------- ------------- 2/3 [scikit-learn]\n",
      "   -------------------------- ------------- 2/3 [scikit-learn]\n",
      "   -------------------------- ------------- 2/3 [scikit-learn]\n",
      "   -------------------------- ------------- 2/3 [scikit-learn]\n",
      "   -------------------------- ------------- 2/3 [scikit-learn]\n",
      "   -------------------------- ------------- 2/3 [scikit-learn]\n",
      "   -------------------------- ------------- 2/3 [scikit-learn]\n",
      "   -------------------------- ------------- 2/3 [scikit-learn]\n",
      "   -------------------------- ------------- 2/3 [scikit-learn]\n",
      "   -------------------------- ------------- 2/3 [scikit-learn]\n",
      "   -------------------------- ------------- 2/3 [scikit-learn]\n",
      "   -------------------------- ------------- 2/3 [scikit-learn]\n",
      "   -------------------------- ------------- 2/3 [scikit-learn]\n",
      "   -------------------------- ------------- 2/3 [scikit-learn]\n",
      "   -------------------------- ------------- 2/3 [scikit-learn]\n",
      "   -------------------------- ------------- 2/3 [scikit-learn]\n",
      "   -------------------------- ------------- 2/3 [scikit-learn]\n",
      "   -------------------------- ------------- 2/3 [scikit-learn]\n",
      "   -------------------------- ------------- 2/3 [scikit-learn]\n",
      "   -------------------------- ------------- 2/3 [scikit-learn]\n",
      "   -------------------------- ------------- 2/3 [scikit-learn]\n",
      "   -------------------------- ------------- 2/3 [scikit-learn]\n",
      "   -------------------------- ------------- 2/3 [scikit-learn]\n",
      "   -------------------------- ------------- 2/3 [scikit-learn]\n",
      "   -------------------------- ------------- 2/3 [scikit-learn]\n",
      "   -------------------------- ------------- 2/3 [scikit-learn]\n",
      "   -------------------------- ------------- 2/3 [scikit-learn]\n",
      "   -------------------------- ------------- 2/3 [scikit-learn]\n",
      "   -------------------------- ------------- 2/3 [scikit-learn]\n",
      "   -------------------------- ------------- 2/3 [scikit-learn]\n",
      "   ---------------------------------------- 3/3 [scikit-learn]\n",
      "\n",
      "Successfully installed joblib-1.5.1 scikit-learn-1.7.0 threadpoolctl-3.6.0\n"
     ]
    }
   ],
   "source": [
    "!pip install scikit-learn"
   ]
  },
  {
   "cell_type": "code",
   "execution_count": 12,
   "metadata": {},
   "outputs": [
    {
     "name": "stdout",
     "output_type": "stream",
     "text": [
      "Collecting sympy\n",
      "  Downloading sympy-1.14.0-py3-none-any.whl.metadata (12 kB)\n",
      "Collecting mpmath<1.4,>=1.1.0 (from sympy)\n",
      "  Downloading mpmath-1.3.0-py3-none-any.whl.metadata (8.6 kB)\n",
      "Downloading sympy-1.14.0-py3-none-any.whl (6.3 MB)\n",
      "   ---------------------------------------- 0.0/6.3 MB ? eta -:--:--\n",
      "   --- ------------------------------------ 0.5/6.3 MB 3.3 MB/s eta 0:00:02\n",
      "   ----------- ---------------------------- 1.8/6.3 MB 5.0 MB/s eta 0:00:01\n",
      "   ------------------- -------------------- 3.1/6.3 MB 5.3 MB/s eta 0:00:01\n",
      "   -------------------------- ------------- 4.2/6.3 MB 5.5 MB/s eta 0:00:01\n",
      "   --------------------------------- ------ 5.2/6.3 MB 5.4 MB/s eta 0:00:01\n",
      "   ---------------------------------------  6.3/6.3 MB 5.1 MB/s eta 0:00:01\n",
      "   ---------------------------------------- 6.3/6.3 MB 5.0 MB/s eta 0:00:00\n",
      "Downloading mpmath-1.3.0-py3-none-any.whl (536 kB)\n",
      "   ---------------------------------------- 0.0/536.2 kB ? eta -:--:--\n",
      "   ---------------------------------------- 536.2/536.2 kB 5.8 MB/s eta 0:00:00\n",
      "Installing collected packages: mpmath, sympy\n",
      "\n",
      "   ---------------------------------------- 0/2 [mpmath]\n",
      "   ---------------------------------------- 0/2 [mpmath]\n",
      "   ---------------------------------------- 0/2 [mpmath]\n",
      "   ---------------------------------------- 0/2 [mpmath]\n",
      "   ---------------------------------------- 0/2 [mpmath]\n",
      "   -------------------- ------------------- 1/2 [sympy]\n",
      "   -------------------- ------------------- 1/2 [sympy]\n",
      "   -------------------- ------------------- 1/2 [sympy]\n",
      "   -------------------- ------------------- 1/2 [sympy]\n",
      "   -------------------- ------------------- 1/2 [sympy]\n",
      "   -------------------- ------------------- 1/2 [sympy]\n",
      "   -------------------- ------------------- 1/2 [sympy]\n",
      "   -------------------- ------------------- 1/2 [sympy]\n",
      "   -------------------- ------------------- 1/2 [sympy]\n",
      "   -------------------- ------------------- 1/2 [sympy]\n",
      "   -------------------- ------------------- 1/2 [sympy]\n",
      "   -------------------- ------------------- 1/2 [sympy]\n",
      "   -------------------- ------------------- 1/2 [sympy]\n",
      "   -------------------- ------------------- 1/2 [sympy]\n",
      "   -------------------- ------------------- 1/2 [sympy]\n",
      "   -------------------- ------------------- 1/2 [sympy]\n",
      "   -------------------- ------------------- 1/2 [sympy]\n",
      "   -------------------- ------------------- 1/2 [sympy]\n",
      "   -------------------- ------------------- 1/2 [sympy]\n",
      "   -------------------- ------------------- 1/2 [sympy]\n",
      "   -------------------- ------------------- 1/2 [sympy]\n",
      "   -------------------- ------------------- 1/2 [sympy]\n",
      "   -------------------- ------------------- 1/2 [sympy]\n",
      "   -------------------- ------------------- 1/2 [sympy]\n",
      "   -------------------- ------------------- 1/2 [sympy]\n",
      "   -------------------- ------------------- 1/2 [sympy]\n",
      "   -------------------- ------------------- 1/2 [sympy]\n",
      "   -------------------- ------------------- 1/2 [sympy]\n",
      "   -------------------- ------------------- 1/2 [sympy]\n",
      "   -------------------- ------------------- 1/2 [sympy]\n",
      "   -------------------- ------------------- 1/2 [sympy]\n",
      "   -------------------- ------------------- 1/2 [sympy]\n",
      "   -------------------- ------------------- 1/2 [sympy]\n",
      "   -------------------- ------------------- 1/2 [sympy]\n",
      "   -------------------- ------------------- 1/2 [sympy]\n",
      "   -------------------- ------------------- 1/2 [sympy]\n",
      "   -------------------- ------------------- 1/2 [sympy]\n",
      "   -------------------- ------------------- 1/2 [sympy]\n",
      "   -------------------- ------------------- 1/2 [sympy]\n",
      "   -------------------- ------------------- 1/2 [sympy]\n",
      "   -------------------- ------------------- 1/2 [sympy]\n",
      "   -------------------- ------------------- 1/2 [sympy]\n",
      "   -------------------- ------------------- 1/2 [sympy]\n",
      "   -------------------- ------------------- 1/2 [sympy]\n",
      "   -------------------- ------------------- 1/2 [sympy]\n",
      "   -------------------- ------------------- 1/2 [sympy]\n",
      "   -------------------- ------------------- 1/2 [sympy]\n",
      "   -------------------- ------------------- 1/2 [sympy]\n",
      "   -------------------- ------------------- 1/2 [sympy]\n",
      "   -------------------- ------------------- 1/2 [sympy]\n",
      "   -------------------- ------------------- 1/2 [sympy]\n",
      "   -------------------- ------------------- 1/2 [sympy]\n",
      "   -------------------- ------------------- 1/2 [sympy]\n",
      "   -------------------- ------------------- 1/2 [sympy]\n",
      "   -------------------- ------------------- 1/2 [sympy]\n",
      "   -------------------- ------------------- 1/2 [sympy]\n",
      "   -------------------- ------------------- 1/2 [sympy]\n",
      "   -------------------- ------------------- 1/2 [sympy]\n",
      "   -------------------- ------------------- 1/2 [sympy]\n",
      "   -------------------- ------------------- 1/2 [sympy]\n",
      "   -------------------- ------------------- 1/2 [sympy]\n",
      "   -------------------- ------------------- 1/2 [sympy]\n",
      "   -------------------- ------------------- 1/2 [sympy]\n",
      "   -------------------- ------------------- 1/2 [sympy]\n",
      "   -------------------- ------------------- 1/2 [sympy]\n",
      "   -------------------- ------------------- 1/2 [sympy]\n",
      "   -------------------- ------------------- 1/2 [sympy]\n",
      "   -------------------- ------------------- 1/2 [sympy]\n",
      "   -------------------- ------------------- 1/2 [sympy]\n",
      "   -------------------- ------------------- 1/2 [sympy]\n",
      "   -------------------- ------------------- 1/2 [sympy]\n",
      "   -------------------- ------------------- 1/2 [sympy]\n",
      "   -------------------- ------------------- 1/2 [sympy]\n",
      "   -------------------- ------------------- 1/2 [sympy]\n",
      "   -------------------- ------------------- 1/2 [sympy]\n",
      "   -------------------- ------------------- 1/2 [sympy]\n",
      "   -------------------- ------------------- 1/2 [sympy]\n",
      "   -------------------- ------------------- 1/2 [sympy]\n",
      "   -------------------- ------------------- 1/2 [sympy]\n",
      "   -------------------- ------------------- 1/2 [sympy]\n",
      "   -------------------- ------------------- 1/2 [sympy]\n",
      "   -------------------- ------------------- 1/2 [sympy]\n",
      "   -------------------- ------------------- 1/2 [sympy]\n",
      "   -------------------- ------------------- 1/2 [sympy]\n",
      "   -------------------- ------------------- 1/2 [sympy]\n",
      "   -------------------- ------------------- 1/2 [sympy]\n",
      "   -------------------- ------------------- 1/2 [sympy]\n",
      "   -------------------- ------------------- 1/2 [sympy]\n",
      "   -------------------- ------------------- 1/2 [sympy]\n",
      "   -------------------- ------------------- 1/2 [sympy]\n",
      "   -------------------- ------------------- 1/2 [sympy]\n",
      "   -------------------- ------------------- 1/2 [sympy]\n",
      "   -------------------- ------------------- 1/2 [sympy]\n",
      "   -------------------- ------------------- 1/2 [sympy]\n",
      "   -------------------- ------------------- 1/2 [sympy]\n",
      "   -------------------- ------------------- 1/2 [sympy]\n",
      "   -------------------- ------------------- 1/2 [sympy]\n",
      "   -------------------- ------------------- 1/2 [sympy]\n",
      "   -------------------- ------------------- 1/2 [sympy]\n",
      "   -------------------- ------------------- 1/2 [sympy]\n",
      "   -------------------- ------------------- 1/2 [sympy]\n",
      "   -------------------- ------------------- 1/2 [sympy]\n",
      "   -------------------- ------------------- 1/2 [sympy]\n",
      "   -------------------- ------------------- 1/2 [sympy]\n",
      "   -------------------- ------------------- 1/2 [sympy]\n",
      "   -------------------- ------------------- 1/2 [sympy]\n",
      "   -------------------- ------------------- 1/2 [sympy]\n",
      "   -------------------- ------------------- 1/2 [sympy]\n",
      "   -------------------- ------------------- 1/2 [sympy]\n",
      "   -------------------- ------------------- 1/2 [sympy]\n",
      "   -------------------- ------------------- 1/2 [sympy]\n",
      "   -------------------- ------------------- 1/2 [sympy]\n",
      "   -------------------- ------------------- 1/2 [sympy]\n",
      "   -------------------- ------------------- 1/2 [sympy]\n",
      "   -------------------- ------------------- 1/2 [sympy]\n",
      "   -------------------- ------------------- 1/2 [sympy]\n",
      "   -------------------- ------------------- 1/2 [sympy]\n",
      "   -------------------- ------------------- 1/2 [sympy]\n",
      "   -------------------- ------------------- 1/2 [sympy]\n",
      "   -------------------- ------------------- 1/2 [sympy]\n",
      "   -------------------- ------------------- 1/2 [sympy]\n",
      "   -------------------- ------------------- 1/2 [sympy]\n",
      "   -------------------- ------------------- 1/2 [sympy]\n",
      "   -------------------- ------------------- 1/2 [sympy]\n",
      "   -------------------- ------------------- 1/2 [sympy]\n",
      "   -------------------- ------------------- 1/2 [sympy]\n",
      "   -------------------- ------------------- 1/2 [sympy]\n",
      "   -------------------- ------------------- 1/2 [sympy]\n",
      "   -------------------- ------------------- 1/2 [sympy]\n",
      "   -------------------- ------------------- 1/2 [sympy]\n",
      "   -------------------- ------------------- 1/2 [sympy]\n",
      "   -------------------- ------------------- 1/2 [sympy]\n",
      "   -------------------- ------------------- 1/2 [sympy]\n",
      "   -------------------- ------------------- 1/2 [sympy]\n",
      "   -------------------- ------------------- 1/2 [sympy]\n",
      "   -------------------- ------------------- 1/2 [sympy]\n",
      "   -------------------- ------------------- 1/2 [sympy]\n",
      "   -------------------- ------------------- 1/2 [sympy]\n",
      "   -------------------- ------------------- 1/2 [sympy]\n",
      "   -------------------- ------------------- 1/2 [sympy]\n",
      "   -------------------- ------------------- 1/2 [sympy]\n",
      "   -------------------- ------------------- 1/2 [sympy]\n",
      "   -------------------- ------------------- 1/2 [sympy]\n",
      "   -------------------- ------------------- 1/2 [sympy]\n",
      "   -------------------- ------------------- 1/2 [sympy]\n",
      "   -------------------- ------------------- 1/2 [sympy]\n",
      "   -------------------- ------------------- 1/2 [sympy]\n",
      "   -------------------- ------------------- 1/2 [sympy]\n",
      "   -------------------- ------------------- 1/2 [sympy]\n",
      "   -------------------- ------------------- 1/2 [sympy]\n",
      "   -------------------- ------------------- 1/2 [sympy]\n",
      "   -------------------- ------------------- 1/2 [sympy]\n",
      "   -------------------- ------------------- 1/2 [sympy]\n",
      "   -------------------- ------------------- 1/2 [sympy]\n",
      "   -------------------- ------------------- 1/2 [sympy]\n",
      "   -------------------- ------------------- 1/2 [sympy]\n",
      "   -------------------- ------------------- 1/2 [sympy]\n",
      "   -------------------- ------------------- 1/2 [sympy]\n",
      "   -------------------- ------------------- 1/2 [sympy]\n",
      "   -------------------- ------------------- 1/2 [sympy]\n",
      "   -------------------- ------------------- 1/2 [sympy]\n",
      "   -------------------- ------------------- 1/2 [sympy]\n",
      "   -------------------- ------------------- 1/2 [sympy]\n",
      "   -------------------- ------------------- 1/2 [sympy]\n",
      "   -------------------- ------------------- 1/2 [sympy]\n",
      "   -------------------- ------------------- 1/2 [sympy]\n",
      "   -------------------- ------------------- 1/2 [sympy]\n",
      "   -------------------- ------------------- 1/2 [sympy]\n",
      "   -------------------- ------------------- 1/2 [sympy]\n",
      "   ---------------------------------------- 2/2 [sympy]\n",
      "\n",
      "Successfully installed mpmath-1.3.0 sympy-1.14.0\n"
     ]
    }
   ],
   "source": [
    "!pip install sympy"
   ]
  },
  {
   "cell_type": "markdown",
   "metadata": {},
   "source": [
    "### Machine Problem 001: Laplace Transforms and Sympy\n",
    "\n",
    "Laplace transforms convert a function $f(t)$ in the time domain into function in the Laplace domain $F(s)$.\n",
    "\n",
    "$F(s) = \\mathcal{L}\\left(f(t)\\right) = \\int_0^\\infty f(t)e^{-s\\,t}dt$\n",
    "\n",
    "The SymPy library is a symbolic mathematics library written for Python that can be used to perform analytical calculations. This library can be very useful for control system design and analysis."
   ]
  },
  {
   "cell_type": "code",
   "execution_count": 20,
   "metadata": {},
   "outputs": [],
   "source": [
    "import sympy as sym\n",
    "from sympy.abc import s,t,u,x,y,z,a,b,c,k\n",
    "from sympy.integrals import laplace_transform"
   ]
  },
  {
   "cell_type": "markdown",
   "metadata": {},
   "source": [
    "### Table of Common Laplace Transforms\n",
    "Mathematicians have developed tables of commonly used Laplace transforms. Here is summary table with a few of the entries that will be most common for analysis of linear differential equations.\n",
    "\n",
    "| **Item no.** | **f(t)**                | **F(s)**                           |\n",
    "|--------------|-------------------------|------------------------------------|\n",
    "| 1.           | $ \\delta(t) $           | $ 1 $                              |\n",
    "| 2.           | $ u(t) $                | $ \\frac{1}{s} $                    |\n",
    "| 3.           | $ tu(t) $               | $ \\frac{1}{s^2} $                  |\n",
    "| 4.           | $ t^n u(t) $            | $ \\frac{n!}{s^{n+1}} $             |\n",
    "| 5.           | $ e^{-at}u(t) $         | $ \\frac{1}{s + a} $                |\n",
    "| 6.           | $ \\sin(\\omega t)u(t) $  | $ \\frac{\\omega}{s^2 + \\omega^2} $  |\n",
    "| 7.           | $ \\cos(\\omega t)u(t) $  | $ \\frac{s}{s^2 + \\omega^2} $       |\n"
   ]
  },
  {
   "cell_type": "code",
   "execution_count": 38,
   "metadata": {},
   "outputs": [],
   "source": [
    "# For pretty  printing\n",
    "sym.init_printing()"
   ]
  },
  {
   "cell_type": "code",
   "execution_count": 40,
   "metadata": {},
   "outputs": [],
   "source": [
    "# Define variables for time 't' and complex variable 's'\n",
    "# t = sym.symbols('t', real=True)\n",
    "# s = sym.symbols('s')\n",
    "\n",
    "# Define a constant:"
   ]
  },
  {
   "cell_type": "markdown",
   "metadata": {},
   "source": [
    "1. Evaluate:\n",
    "\n",
    "$$ \\mathcal{L}\\{\\delta(t)\\} = 1 $$\n",
    "\n",
    "As an example of the Laplace transform, consider a constant $1$. The function $f(t) = 1$ and the following expression is integrated. \n",
    "\n",
    "$\\mathcal{L}(1)=\\int_0^\\infty 1 \\, e^{-s\\,t} dt = -\\frac{1}{s}e^{-s\\,t} \\biggr\\rvert_0^\\infty = 0 - \\left(-\\frac{1}{s} \\right) = \\frac{1}{s}$\n",
    "\n",
    "Notice that the derived value for a constant $1$ is the unit step function with $f(t)=1$ where a signal output changes from 0 to 1 at $time=0$. \n"
   ]
  },
  {
   "cell_type": "code",
   "execution_count": 24,
   "metadata": {},
   "outputs": [
    {
     "data": {
      "image/png": "[encoded data removed]",
      "text/latex": [
       "$\\displaystyle 1$"
      ],
      "text/plain": [
       "1"
      ]
     },
     "execution_count": 24,
     "metadata": {},
     "output_type": "execute_result"
    }
   ],
   "source": [
    "# Define the time domain function:\n",
    "f1 = 1\n",
    "f1"
   ]
  },
  {
   "cell_type": "code",
   "execution_count": 25,
   "metadata": {},
   "outputs": [
    {
     "data": {
      "image/png": "[encoded data removed]",
      "text/latex": [
       "$\\displaystyle \\frac{1}{s}$"
      ],
      "text/plain": [
       "1\n",
       "─\n",
       "s"
      ]
     },
     "execution_count": 25,
     "metadata": {},
     "output_type": "execute_result"
    }
   ],
   "source": [
    "# Compute the Laplace Transform:\n",
    "f1s = laplace_transform(f1, t, s, noconds=True)\n",
    "f1s"
   ]
  },
  {
   "cell_type": "markdown",
   "metadata": {},
   "source": [
    "2. Evaluate:\n",
    "\n",
    "$$ \\mathcal{L}\\{u(t)\\} = \\frac{1}{s} $$\n"
   ]
  },
  {
   "cell_type": "code",
   "execution_count": 26,
   "metadata": {},
   "outputs": [
    {
     "data": {
      "image/png": "[encoded data removed]",
      "text/latex": [
       "$\\displaystyle t$"
      ],
      "text/plain": [
       "t"
      ]
     },
     "execution_count": 26,
     "metadata": {},
     "output_type": "execute_result"
    }
   ],
   "source": [
    "# Define the time domain function:\n",
    "f2 = t\n",
    "f2"
   ]
  },
  {
   "cell_type": "code",
   "execution_count": 27,
   "metadata": {},
   "outputs": [
    {
     "data": {
      "image/png": "[encoded data removed]",
      "text/latex": [
       "$\\displaystyle \\frac{1}{s^{2}}$"
      ],
      "text/plain": [
       "1 \n",
       "──\n",
       " 2\n",
       "s "
      ]
     },
     "execution_count": 27,
     "metadata": {},
     "output_type": "execute_result"
    }
   ],
   "source": [
    "# Compute the Laplace Transform:\n",
    "f2s = laplace_transform(f2, t, s, noconds=True)\n",
    "f2s"
   ]
  },
  {
   "attachments": {},
   "cell_type": "markdown",
   "metadata": {},
   "source": [
    "3. Evaluate:\n",
    "$$ \\mathcal{L}\\{tu(t)\\} = \\frac{1}{s^2} $$\n",
    "$$ \\mathcal{L}\\{5t\\} = \\frac{5}{s^2} $$\n"
   ]
  },
  {
   "cell_type": "code",
   "execution_count": 28,
   "metadata": {},
   "outputs": [
    {
     "data": {
      "image/png": "[encoded data removed]",
      "text/latex": [
       "$\\displaystyle \\frac{5}{s^{2}}$"
      ],
      "text/plain": [
       "5 \n",
       "──\n",
       " 2\n",
       "s "
      ]
     },
     "execution_count": 28,
     "metadata": {},
     "output_type": "execute_result"
    }
   ],
   "source": [
    "# Laplace transform (t->s)\n",
    "U = laplace_transform(5*t, t, s)\n",
    "U[0]"
   ]
  },
  {
   "cell_type": "markdown",
   "metadata": {},
   "source": [
    "4. Evaluate:\n",
    "\n",
    "$$ \\mathcal{L}\\{t^n u(t)\\} = \\frac{n!}{s^{n+1}} $$\n"
   ]
  },
  {
   "cell_type": "code",
   "execution_count": 29,
   "metadata": {},
   "outputs": [
    {
     "data": {
      "image/png": "[encoded data removed]",
      "text/latex": [
       "$\\displaystyle t^{2}$"
      ],
      "text/plain": [
       " 2\n",
       "t "
      ]
     },
     "execution_count": 29,
     "metadata": {},
     "output_type": "execute_result"
    }
   ],
   "source": [
    "# Define the time domain function:\n",
    "f4 = t**2\n",
    "f4"
   ]
  },
  {
   "cell_type": "code",
   "execution_count": 30,
   "metadata": {},
   "outputs": [
    {
     "data": {
      "image/png": "[encoded data removed]",
      "text/latex": [
       "$\\displaystyle \\frac{2}{s^{3}}$"
      ],
      "text/plain": [
       "2 \n",
       "──\n",
       " 3\n",
       "s "
      ]
     },
     "execution_count": 30,
     "metadata": {},
     "output_type": "execute_result"
    }
   ],
   "source": [
    "# Compute the Laplace Transform:\n",
    "f4s = laplace_transform(f4, t, s, noconds=True)\n",
    "f4s"
   ]
  },
  {
   "attachments": {},
   "cell_type": "markdown",
   "metadata": {},
   "source": [
    "5. Evaluate:\n",
    "\n",
    "$$ \\mathcal{L}\\{e^{-at}u(t)\\} = \\frac{1}{s + a} $$\n",
    "Solution:\n",
    "$$ \\mathcal{L}\\{e^{-at}\\} = \\int_0^\\infty \\, e^{-a\\,t} e^{-s\\,t} dt $$\n",
    "$$ = \\int_0^\\infty \\, e^{-(s+a)\\,t} dt $$\n",
    "$$ = \\frac{e^{-(s+a)t}}{-(s+a)} \\biggr\\rvert_0^\\infty $$\n",
    "$$ = 0 - \\left(-\\frac{1}{s+a} \\right) = \\frac{1}{s+a} $$"
   ]
  },
  {
   "cell_type": "code",
   "execution_count": 31,
   "metadata": {},
   "outputs": [
    {
     "data": {
      "image/png": "[encoded data removed]",
      "text/latex": [
       "$\\displaystyle e^{- a t}$"
      ],
      "text/plain": [
       " -a⋅t\n",
       "ℯ    "
      ]
     },
     "execution_count": 31,
     "metadata": {},
     "output_type": "execute_result"
    }
   ],
   "source": [
    "# Define the time domain function:\n",
    "f5 = sym.exp(-a*t)\n",
    "f5"
   ]
  },
  {
   "cell_type": "code",
   "execution_count": 22,
   "metadata": {},
   "outputs": [
    {
     "data": {
      "text/latex": [
       "$\\displaystyle \\frac{1}{a + s}$"
      ],
      "text/plain": [
       "1/(a + s)"
      ]
     },
     "execution_count": 22,
     "metadata": {},
     "output_type": "execute_result"
    }
   ],
   "source": [
    "# Compute the Laplace Transform:\n",
    "f5s = laplace_transform(f5, t, s, noconds=True)\n",
    "f5s"
   ]
  },
  {
   "cell_type": "markdown",
   "metadata": {},
   "source": [
    "6. Evaluate:\n",
    "\n",
    "$$ \\mathcal{L}\\{\\sin(\\omega t)u(t)\\} = \\frac{\\omega}{s^2 + \\omega^2} $$\n",
    "$$ \\mathcal{L}\\{\\sin(4t)\\} = \\frac{\\omega}{s^2 + \\omega^2} $$\n"
   ]
  },
  {
   "cell_type": "code",
   "execution_count": 25,
   "metadata": {},
   "outputs": [
    {
     "data": {
      "text/latex": [
       "$\\displaystyle \\sin{\\left(4 t \\right)}$"
      ],
      "text/plain": [
       "sin(4*t)"
      ]
     },
     "execution_count": 25,
     "metadata": {},
     "output_type": "execute_result"
    }
   ],
   "source": [
    "# Define the time domain function:\n",
    "f6 = sym.sin(4*t)\n",
    "f6"
   ]
  },
  {
   "cell_type": "code",
   "execution_count": 52,
   "metadata": {},
   "outputs": [
    {
     "data": {
      "image/png": "[encoded data removed]",
      "text/latex": [
       "$\\displaystyle \\frac{1}{a + s}$"
      ],
      "text/plain": [
       "  1  \n",
       "─────\n",
       "a + s"
      ]
     },
     "execution_count": 52,
     "metadata": {},
     "output_type": "execute_result"
    }
   ],
   "source": [
    "# Compute the Laplace Transform:\n",
    "f6s = laplace_transform(f5, t, s, noconds=True)\n",
    "f6s"
   ]
  },
  {
   "cell_type": "markdown",
   "metadata": {},
   "source": [
    "7. Evaluate:\n",
    "\n",
    "$$ \\mathcal{L}\\{\\cos(\\omega t)u(t)\\} = \\frac{s}{s^2 + \\omega^2} $$\n",
    "$$ \\mathcal{L}\\{\\cos(\\frac{t}{2})\\} = \\frac{s}{s^2 + \\omega^2} $$\n"
   ]
  },
  {
   "cell_type": "code",
   "execution_count": null,
   "metadata": {},
   "outputs": [],
   "source": []
  },
  {
   "cell_type": "code",
   "execution_count": null,
   "metadata": {},
   "outputs": [],
   "source": []
  },
  {
   "cell_type": "code",
   "execution_count": 35,
   "metadata": {},
   "outputs": [
    {
     "data": {
      "image/png": "[encoded data removed]",
      "text/latex": [
       "$\\displaystyle \\cos{\\left(\\frac{t}{2} \\right)}$"
      ],
      "text/plain": [
       "   ⎛t⎞\n",
       "cos⎜─⎟\n",
       "   ⎝2⎠"
      ]
     },
     "execution_count": 35,
     "metadata": {},
     "output_type": "execute_result"
    }
   ],
   "source": [
    "# Define the time domain function:\n",
    "f7 = sym.cos(t/2)\n",
    "f7"
   ]
  },
  {
   "cell_type": "code",
   "execution_count": 36,
   "metadata": {},
   "outputs": [
    {
     "data": {
      "image/png": "[encoded data removed]",
      "text/latex": [
       "$\\displaystyle \\frac{s}{s^{2} + \\frac{1}{4}}$"
      ],
      "text/plain": [
       "  s   \n",
       "──────\n",
       " 2   1\n",
       "s  + ─\n",
       "     4"
      ]
     },
     "execution_count": 36,
     "metadata": {},
     "output_type": "execute_result"
    }
   ],
   "source": [
    "# Compute the Laplace Transform:\n",
    "f7s = laplace_transform(f7, t, s, noconds=True)\n",
    "f7s"
   ]
  },
  {
   "cell_type": "code",
   "execution_count": null,
   "metadata": {},
   "outputs": [],
   "source": []
  }
 ],
 "metadata": {
  "kernelspec": {
   "display_name": "Python 3 (ipykernel)",
   "language": "python",
   "name": "python3"
  },
  "language_info": {
   "codemirror_mode": {
    "name": "ipython",
    "version": 3
   },
   "file_extension": ".py",
   "mimetype": "text/x-python",
   "name": "python",
   "nbconvert_exporter": "python",
   "pygments_lexer": "ipython3",
   "version": "3.12.11"
  }
 },
 "nbformat": 4,
 "nbformat_minor": 4
}
