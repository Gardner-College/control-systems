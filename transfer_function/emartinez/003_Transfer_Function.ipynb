{
 "cells": [
  {
   "cell_type": "markdown",
   "metadata": {
    "nbpages": {
     "level": 0,
     "link": "[](https://jckantor.github.io/CBE30338/05.01-Getting-Started-with-Transfer-Functions.html)",
     "section": ""
    }
   },
   "source": [
    "- **Name:** Ernesto Martinez Jr\n",
    "- **Term:** Term 3 AY 2024-2025"
   ]
  },
  {
   "cell_type": "markdown",
   "metadata": {
    "nbpages": {
     "level": 1,
     "link": "[5.1 Getting Started with Transfer Functions](https://jckantor.github.io/CBE30338/05.01-Getting-Started-with-Transfer-Functions.html#5.1-Getting-Started-with-Transfer-Functions)",
     "section": "5.1 Getting Started with Transfer Functions"
    }
   },
   "source": [
    "### Machine Problem 003: Transfer Function\n",
    "\n",
    "The [Python Control Systems Library](https://github.com/python-control/python-control) provides basic tools for the analysis and design of linear feedback control systems. The library provides tools to specify transfer function and state space models, manipulate models using block diagram algebra, stability analysis, and perform time and frequency domain simulation.\n",
    "\n",
    "The purpose of these notes is to provide a quick start with the Python Control Systems Library. Consult the [Python Control Systems Documentation](http://python-control.readthedocs.io/en/latest/) for more details."
   ]
  },
  {
   "cell_type": "markdown",
   "metadata": {
    "nbpages": {
     "level": 2,
     "link": "[5.1.1 Installation](https://jckantor.github.io/CBE30338/05.01-Getting-Started-with-Transfer-Functions.html#5.1.1-Installation)",
     "section": "5.1.1 Installation"
    }
   },
   "source": [
    "#### Installation\n",
    "\n",
    "The [Python Control Systems Library](https://github.com/python-control/python-control) is not, unfortunately, a standard part of most standard Python distributions. On most systems, the following commands will perform the required one-time installation of the necessary software."
   ]
  },
  {
   "cell_type": "markdown",
   "metadata": {},
   "source": [
    "To install both the Control Systems library and Slycot in an existing conda environment, run:\n",
    "`!conda install -c conda-forge control slycot`"
   ]
  },
  {
   "cell_type": "code",
   "execution_count": 9,
   "metadata": {
    "nbpages": {
     "level": 2,
     "link": "[5.1.1 Installation](https://jckantor.github.io/CBE30338/05.01-Getting-Started-with-Transfer-Functions.html#5.1.1-Installation)",
     "section": "5.1.1 Installation"
    }
   },
   "outputs": [
    {
     "name": "stdout",
     "output_type": "stream",
     "text": [
      "Collecting slycot\n",
      "  Using cached slycot-0.6.0.tar.gz (3.1 MB)\n",
      "  Installing build dependencies: started\n",
      "  Installing build dependencies: finished with status 'done'\n",
      "  Getting requirements to build wheel: started\n",
      "  Getting requirements to build wheel: finished with status 'done'\n",
      "  Preparing metadata (pyproject.toml): started\n",
      "  Preparing metadata (pyproject.toml): finished with status 'done'\n",
      "Requirement already satisfied: numpy>=1.23.1 in c:\\users\\ernesto martinez\\anaconda3\\lib\\site-packages (from slycot) (1.26.4)\n",
      "Building wheels for collected packages: slycot\n",
      "  Building wheel for slycot (pyproject.toml): started\n",
      "  Building wheel for slycot (pyproject.toml): finished with status 'error'\n",
      "Failed to build slycot\n"
     ]
    },
    {
     "name": "stderr",
     "output_type": "stream",
     "text": [
      "  error: subprocess-exited-with-error\n",
      "  \n",
      "  Building wheel for slycot (pyproject.toml) did not run successfully.\n",
      "  exit code: 1\n",
      "  \n",
      "  [517 lines of output]\n",
      "  C:\\Users\\Ernesto Martinez\\AppData\\Local\\Temp\\pip-build-env-p6490btd\\overlay\\Lib\\site-packages\\setuptools\\config\\_apply_pyprojecttoml.py:82: SetuptoolsDeprecationWarning: `project.license` as a TOML table is deprecated\n",
      "  !!\n",
      "  \n",
      "          ********************************************************************************\n",
      "          Please use a simple string containing a SPDX expression for `project.license`. You can also use `project.license-files`. (Both options available on setuptools>=77.0.0).\n",
      "  \n",
      "          By 2026-Feb-18, you need to update your project and remove deprecated calls\n",
      "          or your builds will no longer be supported.\n",
      "  \n",
      "          See https://packaging.python.org/en/latest/guides/writing-pyproject-toml/#license for details.\n",
      "          ********************************************************************************\n",
      "  \n",
      "  !!\n",
      "    corresp(dist, value, root_dir)\n",
      "  C:\\Users\\Ernesto Martinez\\AppData\\Local\\Temp\\pip-build-env-p6490btd\\overlay\\Lib\\site-packages\\setuptools\\config\\_apply_pyprojecttoml.py:61: SetuptoolsDeprecationWarning: License classifiers are deprecated.\n",
      "  !!\n",
      "  \n",
      "          ********************************************************************************\n",
      "          Please consider removing the following classifiers in favor of a SPDX license expression:\n",
      "  \n",
      "          License :: OSI Approved\n",
      "          License :: OSI Approved :: GNU General Public License v2 (GPLv2)\n",
      "          License :: OSI Approved :: BSD License\n",
      "  \n",
      "          See https://packaging.python.org/en/latest/guides/writing-pyproject-toml/#license for details.\n",
      "          ********************************************************************************\n",
      "  \n",
      "  !!\n",
      "    dist._finalize_license_expression()\n",
      "  C:\\Users\\Ernesto Martinez\\AppData\\Local\\Temp\\pip-build-env-p6490btd\\overlay\\Lib\\site-packages\\setuptools\\dist.py:759: SetuptoolsDeprecationWarning: License classifiers are deprecated.\n",
      "  !!\n",
      "  \n",
      "          ********************************************************************************\n",
      "          Please consider removing the following classifiers in favor of a SPDX license expression:\n",
      "  \n",
      "          License :: OSI Approved\n",
      "          License :: OSI Approved :: GNU General Public License v2 (GPLv2)\n",
      "          License :: OSI Approved :: BSD License\n",
      "  \n",
      "          See https://packaging.python.org/en/latest/guides/writing-pyproject-toml/#license for details.\n",
      "          ********************************************************************************\n",
      "  \n",
      "  !!\n",
      "    self._finalize_license_expression()\n",
      "  \n",
      "  \n",
      "  --------------------------------------------------------------------------------\n",
      "  -- Trying 'Ninja (Visual Studio 17 2022 x64 v144)' generator\n",
      "  --------------------------------\n",
      "  ---------------------------\n",
      "  ----------------------\n",
      "  -----------------\n",
      "  ------------\n",
      "  -------\n",
      "  --\n",
      "  Not searching for unused variables given on the command line.\n",
      "  CMake Deprecation Warning at CMakeLists.txt:1 (cmake_minimum_required):\n",
      "    Compatibility with CMake < 3.10 will be removed from a future version of\n",
      "    CMake.\n",
      "  \n",
      "    Update the VERSION argument <min> value.  Or, use the <min>...<max> syntax\n",
      "    to tell CMake that the project requires at least <min> but has been updated\n",
      "    to work with policies introduced by <max> or earlier.\n",
      "  \n",
      "  \n",
      "  CMake Error: CMake was unable to find a build program corresponding to \"Ninja\".  CMAKE_MAKE_PROGRAM is not set.  You probably need to select a different build tool.\n",
      "  -- Configuring incomplete, errors occurred!\n",
      "  --\n",
      "  -------\n",
      "  ------------\n",
      "  -----------------\n",
      "  ----------------------\n",
      "  ---------------------------\n",
      "  --------------------------------\n",
      "  -- Trying 'Ninja (Visual Studio 17 2022 x64 v144)' generator - failure\n",
      "  --------------------------------------------------------------------------------\n",
      "  \n",
      "  \n",
      "  \n",
      "  --------------------------------------------------------------------------------\n",
      "  -- Trying 'Visual Studio 17 2022 x64 v144' generator\n",
      "  --------------------------------\n",
      "  ---------------------------\n",
      "  ----------------------\n",
      "  -----------------\n",
      "  ------------\n",
      "  -------\n",
      "  --\n",
      "  Not searching for unused variables given on the command line.\n",
      "  CMake Deprecation Warning at CMakeLists.txt:1 (cmake_minimum_required):\n",
      "    Compatibility with CMake < 3.10 will be removed from a future version of\n",
      "    CMake.\n",
      "  \n",
      "    Update the VERSION argument <min> value.  Or, use the <min>...<max> syntax\n",
      "    to tell CMake that the project requires at least <min> but has been updated\n",
      "    to work with policies introduced by <max> or earlier.\n",
      "  \n",
      "  \n",
      "  CMake Error at CMakeLists.txt:2 (PROJECT):\n",
      "    Generator\n",
      "  \n",
      "      Visual Studio 17 2022\n",
      "  \n",
      "    could not find any instance of Visual Studio.\n",
      "  \n",
      "  \n",
      "  \n",
      "  -- Configuring incomplete, errors occurred!\n",
      "  --\n",
      "  -------\n",
      "  ------------\n",
      "  -----------------\n",
      "  ----------------------\n",
      "  ---------------------------\n",
      "  --------------------------------\n",
      "  -- Trying 'Visual Studio 17 2022 x64 v144' generator - failure\n",
      "  --------------------------------------------------------------------------------\n",
      "  \n",
      "  \n",
      "  \n",
      "  --------------------------------------------------------------------------------\n",
      "  -- Trying 'Ninja (Visual Studio 17 2022 x64 v143)' generator\n",
      "  --------------------------------\n",
      "  ---------------------------\n",
      "  ----------------------\n",
      "  -----------------\n",
      "  ------------\n",
      "  -------\n",
      "  --\n",
      "  Not searching for unused variables given on the command line.\n",
      "  CMake Deprecation Warning at CMakeLists.txt:1 (cmake_minimum_required):\n",
      "    Compatibility with CMake < 3.10 will be removed from a future version of\n",
      "    CMake.\n",
      "  \n",
      "    Update the VERSION argument <min> value.  Or, use the <min>...<max> syntax\n",
      "    to tell CMake that the project requires at least <min> but has been updated\n",
      "    to work with policies introduced by <max> or earlier.\n",
      "  \n",
      "  \n",
      "  CMake Error: CMake was unable to find a build program corresponding to \"Ninja\".  CMAKE_MAKE_PROGRAM is not set.  You probably need to select a different build tool.\n",
      "  -- Configuring incomplete, errors occurred!\n",
      "  --\n",
      "  -------\n",
      "  ------------\n",
      "  -----------------\n",
      "  ----------------------\n",
      "  ---------------------------\n",
      "  --------------------------------\n",
      "  -- Trying 'Ninja (Visual Studio 17 2022 x64 v143)' generator - failure\n",
      "  --------------------------------------------------------------------------------\n",
      "  \n",
      "  \n",
      "  \n",
      "  --------------------------------------------------------------------------------\n",
      "  -- Trying 'Visual Studio 17 2022 x64 v143' generator\n",
      "  --------------------------------\n",
      "  ---------------------------\n",
      "  ----------------------\n",
      "  -----------------\n",
      "  ------------\n",
      "  -------\n",
      "  --\n",
      "  Not searching for unused variables given on the command line.\n",
      "  CMake Deprecation Warning at CMakeLists.txt:1 (cmake_minimum_required):\n",
      "    Compatibility with CMake < 3.10 will be removed from a future version of\n",
      "    CMake.\n",
      "  \n",
      "    Update the VERSION argument <min> value.  Or, use the <min>...<max> syntax\n",
      "    to tell CMake that the project requires at least <min> but has been updated\n",
      "    to work with policies introduced by <max> or earlier.\n",
      "  \n",
      "  \n",
      "  CMake Error at CMakeLists.txt:2 (PROJECT):\n",
      "    Generator\n",
      "  \n",
      "      Visual Studio 17 2022\n",
      "  \n",
      "    could not find any instance of Visual Studio.\n",
      "  \n",
      "  \n",
      "  \n",
      "  -- Configuring incomplete, errors occurred!\n",
      "  --\n",
      "  -------\n",
      "  ------------\n",
      "  -----------------\n",
      "  ----------------------\n",
      "  ---------------------------\n",
      "  --------------------------------\n",
      "  -- Trying 'Visual Studio 17 2022 x64 v143' generator - failure\n",
      "  --------------------------------------------------------------------------------\n",
      "  \n",
      "  \n",
      "  \n",
      "  --------------------------------------------------------------------------------\n",
      "  -- Trying 'Ninja (Visual Studio 16 2019 x64 v142)' generator\n",
      "  --------------------------------\n",
      "  ---------------------------\n",
      "  ----------------------\n",
      "  -----------------\n",
      "  ------------\n",
      "  -------\n",
      "  --\n",
      "  Not searching for unused variables given on the command line.\n",
      "  CMake Deprecation Warning at CMakeLists.txt:1 (cmake_minimum_required):\n",
      "    Compatibility with CMake < 3.10 will be removed from a future version of\n",
      "    CMake.\n",
      "  \n",
      "    Update the VERSION argument <min> value.  Or, use the <min>...<max> syntax\n",
      "    to tell CMake that the project requires at least <min> but has been updated\n",
      "    to work with policies introduced by <max> or earlier.\n",
      "  \n",
      "  \n",
      "  CMake Error: CMake was unable to find a build program corresponding to \"Ninja\".  CMAKE_MAKE_PROGRAM is not set.  You probably need to select a different build tool.\n",
      "  -- Configuring incomplete, errors occurred!\n",
      "  --\n",
      "  -------\n",
      "  ------------\n",
      "  -----------------\n",
      "  ----------------------\n",
      "  ---------------------------\n",
      "  --------------------------------\n",
      "  -- Trying 'Ninja (Visual Studio 16 2019 x64 v142)' generator - failure\n",
      "  --------------------------------------------------------------------------------\n",
      "  \n",
      "  \n",
      "  \n",
      "  --------------------------------------------------------------------------------\n",
      "  -- Trying 'Visual Studio 16 2019 x64 v142' generator\n",
      "  --------------------------------\n",
      "  ---------------------------\n",
      "  ----------------------\n",
      "  -----------------\n",
      "  ------------\n",
      "  -------\n",
      "  --\n",
      "  Not searching for unused variables given on the command line.\n",
      "  CMake Deprecation Warning at CMakeLists.txt:1 (cmake_minimum_required):\n",
      "    Compatibility with CMake < 3.10 will be removed from a future version of\n",
      "    CMake.\n",
      "  \n",
      "    Update the VERSION argument <min> value.  Or, use the <min>...<max> syntax\n",
      "    to tell CMake that the project requires at least <min> but has been updated\n",
      "    to work with policies introduced by <max> or earlier.\n",
      "  \n",
      "  \n",
      "  CMake Error at CMakeLists.txt:2 (PROJECT):\n",
      "    Generator\n",
      "  \n",
      "      Visual Studio 16 2019\n",
      "  \n",
      "    could not find any instance of Visual Studio.\n",
      "  \n",
      "  \n",
      "  \n",
      "  -- Configuring incomplete, errors occurred!\n",
      "  --\n",
      "  -------\n",
      "  ------------\n",
      "  -----------------\n",
      "  ----------------------\n",
      "  ---------------------------\n",
      "  --------------------------------\n",
      "  -- Trying 'Visual Studio 16 2019 x64 v142' generator - failure\n",
      "  --------------------------------------------------------------------------------\n",
      "  \n",
      "  \n",
      "  \n",
      "  --------------------------------------------------------------------------------\n",
      "  -- Trying 'Ninja (Visual Studio 15 2017 x64 v141)' generator\n",
      "  --------------------------------\n",
      "  ---------------------------\n",
      "  ----------------------\n",
      "  -----------------\n",
      "  ------------\n",
      "  -------\n",
      "  --\n",
      "  Not searching for unused variables given on the command line.\n",
      "  CMake Deprecation Warning at CMakeLists.txt:1 (cmake_minimum_required):\n",
      "    Compatibility with CMake < 3.10 will be removed from a future version of\n",
      "    CMake.\n",
      "  \n",
      "    Update the VERSION argument <min> value.  Or, use the <min>...<max> syntax\n",
      "    to tell CMake that the project requires at least <min> but has been updated\n",
      "    to work with policies introduced by <max> or earlier.\n",
      "  \n",
      "  \n",
      "  CMake Error: CMake was unable to find a build program corresponding to \"Ninja\".  CMAKE_MAKE_PROGRAM is not set.  You probably need to select a different build tool.\n",
      "  -- Configuring incomplete, errors occurred!\n",
      "  --\n",
      "  -------\n",
      "  ------------\n",
      "  -----------------\n",
      "  ----------------------\n",
      "  ---------------------------\n",
      "  --------------------------------\n",
      "  -- Trying 'Ninja (Visual Studio 15 2017 x64 v141)' generator - failure\n",
      "  --------------------------------------------------------------------------------\n",
      "  \n",
      "  \n",
      "  \n",
      "  --------------------------------------------------------------------------------\n",
      "  -- Trying 'Visual Studio 15 2017 x64 v141' generator\n",
      "  --------------------------------\n",
      "  ---------------------------\n",
      "  ----------------------\n",
      "  -----------------\n",
      "  ------------\n",
      "  -------\n",
      "  --\n",
      "  Not searching for unused variables given on the command line.\n",
      "  CMake Deprecation Warning at CMakeLists.txt:1 (cmake_minimum_required):\n",
      "    Compatibility with CMake < 3.10 will be removed from a future version of\n",
      "    CMake.\n",
      "  \n",
      "    Update the VERSION argument <min> value.  Or, use the <min>...<max> syntax\n",
      "    to tell CMake that the project requires at least <min> but has been updated\n",
      "    to work with policies introduced by <max> or earlier.\n",
      "  \n",
      "  \n",
      "  CMake Error at CMakeLists.txt:2 (PROJECT):\n",
      "    Generator\n",
      "  \n",
      "      Visual Studio 15 2017\n",
      "  \n",
      "    could not find any instance of Visual Studio.\n",
      "  \n",
      "  \n",
      "  \n",
      "  -- Configuring incomplete, errors occurred!\n",
      "  --\n",
      "  -------\n",
      "  ------------\n",
      "  -----------------\n",
      "  ----------------------\n",
      "  ---------------------------\n",
      "  --------------------------------\n",
      "  -- Trying 'Visual Studio 15 2017 x64 v141' generator - failure\n",
      "  --------------------------------------------------------------------------------\n",
      "  \n",
      "  \n",
      "  \n",
      "  --------------------------------------------------------------------------------\n",
      "  -- Trying 'NMake Makefiles (Visual Studio 17 2022 x64 v144)' generator\n",
      "  --------------------------------\n",
      "  ---------------------------\n",
      "  ----------------------\n",
      "  -----------------\n",
      "  ------------\n",
      "  -------\n",
      "  --\n",
      "  Not searching for unused variables given on the command line.\n",
      "  CMake Deprecation Warning at CMakeLists.txt:1 (cmake_minimum_required):\n",
      "    Compatibility with CMake < 3.10 will be removed from a future version of\n",
      "    CMake.\n",
      "  \n",
      "    Update the VERSION argument <min> value.  Or, use the <min>...<max> syntax\n",
      "    to tell CMake that the project requires at least <min> but has been updated\n",
      "    to work with policies introduced by <max> or earlier.\n",
      "  \n",
      "  \n",
      "  CMake Error at CMakeLists.txt:2 (PROJECT):\n",
      "    Running\n",
      "  \n",
      "     'nmake' '-?'\n",
      "  \n",
      "    failed with:\n",
      "  \n",
      "     no such file or directory\n",
      "  \n",
      "  \n",
      "  -- Configuring incomplete, errors occurred!\n",
      "  --\n",
      "  -------\n",
      "  ------------\n",
      "  -----------------\n",
      "  ----------------------\n",
      "  ---------------------------\n",
      "  --------------------------------\n",
      "  -- Trying 'NMake Makefiles (Visual Studio 17 2022 x64 v144)' generator - failure\n",
      "  --------------------------------------------------------------------------------\n",
      "  \n",
      "  \n",
      "  \n",
      "  --------------------------------------------------------------------------------\n",
      "  -- Trying 'NMake Makefiles (Visual Studio 17 2022 x64 v143)' generator\n",
      "  --------------------------------\n",
      "  ---------------------------\n",
      "  ----------------------\n",
      "  -----------------\n",
      "  ------------\n",
      "  -------\n",
      "  --\n",
      "  Not searching for unused variables given on the command line.\n",
      "  CMake Deprecation Warning at CMakeLists.txt:1 (cmake_minimum_required):\n",
      "    Compatibility with CMake < 3.10 will be removed from a future version of\n",
      "    CMake.\n",
      "  \n",
      "    Update the VERSION argument <min> value.  Or, use the <min>...<max> syntax\n",
      "    to tell CMake that the project requires at least <min> but has been updated\n",
      "    to work with policies introduced by <max> or earlier.\n",
      "  \n",
      "  \n",
      "  CMake Error at CMakeLists.txt:2 (PROJECT):\n",
      "    Running\n",
      "  \n",
      "     'nmake' '-?'\n",
      "  \n",
      "    failed with:\n",
      "  \n",
      "     no such file or directory\n",
      "  \n",
      "  \n",
      "  -- Configuring incomplete, errors occurred!\n",
      "  --\n",
      "  -------\n",
      "  ------------\n",
      "  -----------------\n",
      "  ----------------------\n",
      "  ---------------------------\n",
      "  --------------------------------\n",
      "  -- Trying 'NMake Makefiles (Visual Studio 17 2022 x64 v143)' generator - failure\n",
      "  --------------------------------------------------------------------------------\n",
      "  \n",
      "  \n",
      "  \n",
      "  --------------------------------------------------------------------------------\n",
      "  -- Trying 'NMake Makefiles (Visual Studio 16 2019 x64 v142)' generator\n",
      "  --------------------------------\n",
      "  ---------------------------\n",
      "  ----------------------\n",
      "  -----------------\n",
      "  ------------\n",
      "  -------\n",
      "  --\n",
      "  Not searching for unused variables given on the command line.\n",
      "  CMake Deprecation Warning at CMakeLists.txt:1 (cmake_minimum_required):\n",
      "    Compatibility with CMake < 3.10 will be removed from a future version of\n",
      "    CMake.\n",
      "  \n",
      "    Update the VERSION argument <min> value.  Or, use the <min>...<max> syntax\n",
      "    to tell CMake that the project requires at least <min> but has been updated\n",
      "    to work with policies introduced by <max> or earlier.\n",
      "  \n",
      "  \n",
      "  CMake Error at CMakeLists.txt:2 (PROJECT):\n",
      "    Running\n",
      "  \n",
      "     'nmake' '-?'\n",
      "  \n",
      "    failed with:\n",
      "  \n",
      "     no such file or directory\n",
      "  \n",
      "  \n",
      "  -- Configuring incomplete, errors occurred!\n",
      "  --\n",
      "  -------\n",
      "  ------------\n",
      "  -----------------\n",
      "  ----------------------\n",
      "  ---------------------------\n",
      "  --------------------------------\n",
      "  -- Trying 'NMake Makefiles (Visual Studio 16 2019 x64 v142)' generator - failure\n",
      "  --------------------------------------------------------------------------------\n",
      "  \n",
      "  \n",
      "  \n",
      "  --------------------------------------------------------------------------------\n",
      "  -- Trying 'NMake Makefiles (Visual Studio 15 2017 x64 v141)' generator\n",
      "  --------------------------------\n",
      "  ---------------------------\n",
      "  ----------------------\n",
      "  -----------------\n",
      "  ------------\n",
      "  -------\n",
      "  --\n",
      "  Not searching for unused variables given on the command line.\n",
      "  CMake Deprecation Warning at CMakeLists.txt:1 (cmake_minimum_required):\n",
      "    Compatibility with CMake < 3.10 will be removed from a future version of\n",
      "    CMake.\n",
      "  \n",
      "    Update the VERSION argument <min> value.  Or, use the <min>...<max> syntax\n",
      "    to tell CMake that the project requires at least <min> but has been updated\n",
      "    to work with policies introduced by <max> or earlier.\n",
      "  \n",
      "  \n",
      "  CMake Error at CMakeLists.txt:2 (PROJECT):\n",
      "    Running\n",
      "  \n",
      "     'nmake' '-?'\n",
      "  \n",
      "    failed with:\n",
      "  \n",
      "     no such file or directory\n",
      "  \n",
      "  \n",
      "  -- Configuring incomplete, errors occurred!\n",
      "  --\n",
      "  -------\n",
      "  ------------\n",
      "  -----------------\n",
      "  ----------------------\n",
      "  ---------------------------\n",
      "  --------------------------------\n",
      "  -- Trying 'NMake Makefiles (Visual Studio 15 2017 x64 v141)' generator - failure\n",
      "  --------------------------------------------------------------------------------\n",
      "  \n",
      "                  ********************************************************************************\n",
      "                  scikit-build could not get a working generator for your system. Aborting build.\n",
      "  \n",
      "                  Building windows wheels requires Microsoft Visual Studio.\n",
      "              Get it from:\n",
      "  n\n",
      "               https://visualstudio.microsoft.com/vs/\n",
      "  \n",
      "                  ********************************************************************************\n",
      "  [end of output]\n",
      "  \n",
      "  note: This error originates from a subprocess, and is likely not a problem with pip.\n",
      "  ERROR: Failed building wheel for slycot\n",
      "ERROR: ERROR: Failed to build installable wheels for some pyproject.toml based projects (slycot)\n"
     ]
    },
    {
     "name": "stdout",
     "output_type": "stream",
     "text": [
      "Requirement already satisfied: control in c:\\users\\ernesto martinez\\anaconda3\\lib\\site-packages (0.10.2)\n",
      "Requirement already satisfied: numpy>=1.23 in c:\\users\\ernesto martinez\\anaconda3\\lib\\site-packages (from control) (1.26.4)\n",
      "Requirement already satisfied: scipy>=1.8 in c:\\users\\ernesto martinez\\anaconda3\\lib\\site-packages (from control) (1.13.1)\n",
      "Requirement already satisfied: matplotlib>=3.6 in c:\\users\\ernesto martinez\\anaconda3\\lib\\site-packages (from control) (3.9.2)\n",
      "Requirement already satisfied: contourpy>=1.0.1 in c:\\users\\ernesto martinez\\anaconda3\\lib\\site-packages (from matplotlib>=3.6->control) (1.2.0)\n",
      "Requirement already satisfied: cycler>=0.10 in c:\\users\\ernesto martinez\\anaconda3\\lib\\site-packages (from matplotlib>=3.6->control) (0.11.0)\n",
      "Requirement already satisfied: fonttools>=4.22.0 in c:\\users\\ernesto martinez\\anaconda3\\lib\\site-packages (from matplotlib>=3.6->control) (4.51.0)\n",
      "Requirement already satisfied: kiwisolver>=1.3.1 in c:\\users\\ernesto martinez\\anaconda3\\lib\\site-packages (from matplotlib>=3.6->control) (1.4.4)\n",
      "Requirement already satisfied: packaging>=20.0 in c:\\users\\ernesto martinez\\anaconda3\\lib\\site-packages (from matplotlib>=3.6->control) (24.1)\n",
      "Requirement already satisfied: pillow>=8 in c:\\users\\ernesto martinez\\anaconda3\\lib\\site-packages (from matplotlib>=3.6->control) (10.4.0)\n",
      "Requirement already satisfied: pyparsing>=2.3.1 in c:\\users\\ernesto martinez\\anaconda3\\lib\\site-packages (from matplotlib>=3.6->control) (3.1.2)\n",
      "Requirement already satisfied: python-dateutil>=2.7 in c:\\users\\ernesto martinez\\anaconda3\\lib\\site-packages (from matplotlib>=3.6->control) (2.9.0.post0)\n",
      "Requirement already satisfied: six>=1.5 in c:\\users\\ernesto martinez\\anaconda3\\lib\\site-packages (from python-dateutil>=2.7->matplotlib>=3.6->control) (1.16.0)\n",
      "Requirement already satisfied: seaborn in c:\\users\\ernesto martinez\\anaconda3\\lib\\site-packages (0.13.2)\n",
      "Requirement already satisfied: numpy!=1.24.0,>=1.20 in c:\\users\\ernesto martinez\\anaconda3\\lib\\site-packages (from seaborn) (1.26.4)\n",
      "Requirement already satisfied: pandas>=1.2 in c:\\users\\ernesto martinez\\anaconda3\\lib\\site-packages (from seaborn) (2.2.2)\n",
      "Requirement already satisfied: matplotlib!=3.6.1,>=3.4 in c:\\users\\ernesto martinez\\anaconda3\\lib\\site-packages (from seaborn) (3.9.2)\n",
      "Requirement already satisfied: contourpy>=1.0.1 in c:\\users\\ernesto martinez\\anaconda3\\lib\\site-packages (from matplotlib!=3.6.1,>=3.4->seaborn) (1.2.0)\n",
      "Requirement already satisfied: cycler>=0.10 in c:\\users\\ernesto martinez\\anaconda3\\lib\\site-packages (from matplotlib!=3.6.1,>=3.4->seaborn) (0.11.0)\n",
      "Requirement already satisfied: fonttools>=4.22.0 in c:\\users\\ernesto martinez\\anaconda3\\lib\\site-packages (from matplotlib!=3.6.1,>=3.4->seaborn) (4.51.0)\n",
      "Requirement already satisfied: kiwisolver>=1.3.1 in c:\\users\\ernesto martinez\\anaconda3\\lib\\site-packages (from matplotlib!=3.6.1,>=3.4->seaborn) (1.4.4)\n",
      "Requirement already satisfied: packaging>=20.0 in c:\\users\\ernesto martinez\\anaconda3\\lib\\site-packages (from matplotlib!=3.6.1,>=3.4->seaborn) (24.1)\n",
      "Requirement already satisfied: pillow>=8 in c:\\users\\ernesto martinez\\anaconda3\\lib\\site-packages (from matplotlib!=3.6.1,>=3.4->seaborn) (10.4.0)\n",
      "Requirement already satisfied: pyparsing>=2.3.1 in c:\\users\\ernesto martinez\\anaconda3\\lib\\site-packages (from matplotlib!=3.6.1,>=3.4->seaborn) (3.1.2)\n",
      "Requirement already satisfied: python-dateutil>=2.7 in c:\\users\\ernesto martinez\\anaconda3\\lib\\site-packages (from matplotlib!=3.6.1,>=3.4->seaborn) (2.9.0.post0)\n",
      "Requirement already satisfied: pytz>=2020.1 in c:\\users\\ernesto martinez\\anaconda3\\lib\\site-packages (from pandas>=1.2->seaborn) (2024.1)\n",
      "Requirement already satisfied: tzdata>=2022.7 in c:\\users\\ernesto martinez\\anaconda3\\lib\\site-packages (from pandas>=1.2->seaborn) (2023.3)\n",
      "Requirement already satisfied: six>=1.5 in c:\\users\\ernesto martinez\\anaconda3\\lib\\site-packages (from python-dateutil>=2.7->matplotlib!=3.6.1,>=3.4->seaborn) (1.16.0)\n"
     ]
    }
   ],
   "source": [
    "!pip install slycot\n",
    "!pip install control\n",
    "!pip install seaborn"
   ]
  },
  {
   "cell_type": "markdown",
   "metadata": {
    "nbpages": {
     "level": 2,
     "link": "[5.1.2 Library Usage](https://jckantor.github.io/CBE30338/05.01-Getting-Started-with-Transfer-Functions.html#5.1.2-Library-Usage)",
     "section": "5.1.2 Library Usage"
    }
   },
   "source": [
    "#### Library Usage\n",
    "\n",
    "The control systems library is designed to work with a simplified syntax where libraries are imported without the standard prefixes.  "
   ]
  },
  {
   "cell_type": "code",
   "execution_count": 13,
   "metadata": {
    "nbpages": {
     "level": 2,
     "link": "[5.1.2 Library Usage](https://jckantor.github.io/CBE30338/05.01-Getting-Started-with-Transfer-Functions.html#5.1.2-Library-Usage)",
     "section": "5.1.2 Library Usage"
    }
   },
   "outputs": [],
   "source": [
    "import numpy as np\n",
    "import seaborn as sns\n",
    "import matplotlib.pyplot as plt\n",
    "import control.matlab as control"
   ]
  },
  {
   "cell_type": "markdown",
   "metadata": {
    "nbpages": {
     "level": 2,
     "link": "[5.1.3 Demonstration](https://jckantor.github.io/CBE30338/05.01-Getting-Started-with-Transfer-Functions.html#5.1.3-Demonstration)",
     "section": "5.1.3 Demonstration"
    }
   },
   "source": [
    "#### Demonstration"
   ]
  },
  {
   "cell_type": "markdown",
   "metadata": {
    "nbpages": {
     "level": 3,
     "link": "[5.1.3.1 Step Response of Transfer Functions](https://jckantor.github.io/CBE30338/05.01-Getting-Started-with-Transfer-Functions.html#5.1.3.1-Step-Response-of-Transfer-Functions)",
     "section": "5.1.3.1 Step Response of Transfer Functions"
    }
   },
   "source": [
    "##### Step Response of Transfer Functions\n",
    "\n",
    "The following cells demonstrate the use of two functions in the control systems library, `tf` and `step`. Suppose a signal $y(s)$ is related to an input $u(s)$ by the formula\n",
    "\n",
    "$$y(s) = \\underbrace{\\frac{4.3}{3.2s + 1}}_{G(s)} u(s)$$\n",
    "\n",
    "The transfer function\n",
    "\n",
    "$$G(s) = \\frac{4.3}{3.2 s + 1}$$\n",
    "\n",
    "is represented in the control system libary using `tf(num,den)` where `num` and `den` list the coefficients of the numerator and denominator polynomials.  "
   ]
  },
  {
   "cell_type": "code",
   "execution_count": 15,
   "metadata": {
    "nbpages": {
     "level": 3,
     "link": "[5.1.3.1 Step Response of Transfer Functions](https://jckantor.github.io/CBE30338/05.01-Getting-Started-with-Transfer-Functions.html#5.1.3.1-Step-Response-of-Transfer-Functions)",
     "section": "5.1.3.1 Step Response of Transfer Functions"
    }
   },
   "outputs": [
    {
     "name": "stdout",
     "output_type": "stream",
     "text": [
      "<TransferFunction>: sys[0]\n",
      "Inputs (1): ['u[0]']\n",
      "Outputs (1): ['y[0]']\n",
      "\n",
      "     4.3\n",
      "  ---------\n",
      "  3.2 s + 1\n"
     ]
    }
   ],
   "source": [
    "G = control.tf([4.3],[3.2, 1])\n",
    "print(G)"
   ]
  },
  {
   "cell_type": "markdown",
   "metadata": {
    "nbpages": {
     "level": 3,
     "link": "[5.1.3.1 Step Response of Transfer Functions](https://jckantor.github.io/CBE30338/05.01-Getting-Started-with-Transfer-Functions.html#5.1.3.1-Step-Response-of-Transfer-Functions)",
     "section": "5.1.3.1 Step Response of Transfer Functions"
    }
   },
   "source": [
    "The step response is created and plotted as"
   ]
  },
  {
   "cell_type": "code",
   "execution_count": 16,
   "metadata": {
    "nbpages": {
     "level": 3,
     "link": "[5.1.3.1 Step Response of Transfer Functions](https://jckantor.github.io/CBE30338/05.01-Getting-Started-with-Transfer-Functions.html#5.1.3.1-Step-Response-of-Transfer-Functions)",
     "section": "5.1.3.1 Step Response of Transfer Functions"
    }
   },
   "outputs": [
    {
     "data": {
      "text/plain": [
       "Text(0.5, 1.0, 'Step Response')"
      ]
     },
     "execution_count": 16,
     "metadata": {},
     "output_type": "execute_result"
    },
    {
     "data": {
      "image/png": "[encoded data removed]",
      "text/plain": [
       "<Figure size 640x480 with 1 Axes>"
      ]
     },
     "metadata": {},
     "output_type": "display_data"
    }
   ],
   "source": [
    "y,t = control.step(G)\n",
    "plt.plot(t,y)\n",
    "plt.xlabel('Time')\n",
    "plt.title('Step Response')"
   ]
  },
  {
   "cell_type": "markdown",
   "metadata": {
    "nbpages": {
     "level": 3,
     "link": "[5.1.3.2 Transfer Functions in Series](https://jckantor.github.io/CBE30338/05.01-Getting-Started-with-Transfer-Functions.html#5.1.3.2-Transfer-Functions-in-Series)",
     "section": "5.1.3.2 Transfer Functions in Series"
    }
   },
   "source": [
    "##### Transfer Functions in Series"
   ]
  },
  {
   "cell_type": "markdown",
   "metadata": {
    "nbpages": {
     "level": 3,
     "link": "[5.1.3.2 Transfer Functions in Series](https://jckantor.github.io/CBE30338/05.01-Getting-Started-with-Transfer-Functions.html#5.1.3.2-Transfer-Functions-in-Series)",
     "section": "5.1.3.2 Transfer Functions in Series"
    }
   },
   "source": [
    "Models for complex systems are generally constructed by combining models of simpler elements. Consider, for example, a serial connection of two transfer functions\n",
    "\n",
    "$$ y_1(s) = G_1(s) u(s)$$\n",
    "\n",
    "$$ y_2(s) = G_2(s) y_1(s)$$\n",
    "\n",
    "which can be diagrammed as\n",
    "\n",
    "$$u(s) \\longrightarrow \\boxed{\\\\G_1(s)} \\stackrel{y_1(s)}{\\longrightarrow} \\boxed{\\\\G_2(s)} \n",
    "\\longrightarrow y_2(s)$$\n",
    "\n",
    "The serial composition of two transfer functions can be written\n",
    "\n",
    "$$y_2(s) = \\underbrace{G_2(s)G_1(s)}_{G(s)} u(s)$$\n",
    "\n",
    "where the product $G(s) = G_2(s)G_1(s)$ represents the transfer function of the combined system. In terms of a block diagram\n",
    "\n",
    "$$u(s) \\longrightarrow \\boxed{\\\\G_1(s)} \\stackrel{y_1(s)}{\\longrightarrow} \\boxed{\\\\G_2(s)} \n",
    "\\longrightarrow y_2(s) \\qquad \\implies \\qquad\n",
    "u(s) \\longrightarrow \\boxed{\\\\G_2(s)G_1(s)} \\longrightarrow y_2(s)$$\n",
    "\n",
    "The product $G(s) = G_2(s)G_1(s)$$ is computed by taking the products of the numerator and denominator polynomials, respectively.  For example, suppose\n",
    "\n",
    "$$G_1(s) = \\frac{12.3}{10 s + 1} \\text{   and   }G_2(s) = \\frac{4}{15 s + 1}$$\n",
    "\n",
    "Then\n",
    "\n",
    "\\begin{align*}\n",
    "G(s) & = G_2(s)G_1(s) \\\\\n",
    "& = \\frac{4}{15 s + 1} \\times \\frac{12.3}{10 s + 1} = \\frac{4 \\times 12.3}{(15s + 1)(10s + 1)} = \\frac{49.2}{150 s^2 + 25s + 1}\n",
    "\\end{align*}\n",
    "\n",
    "We can verify this calculation using the control systems library."
   ]
  },
  {
   "cell_type": "code",
   "execution_count": 17,
   "metadata": {
    "nbpages": {
     "level": 3,
     "link": "[5.1.3.2 Transfer Functions in Series](https://jckantor.github.io/CBE30338/05.01-Getting-Started-with-Transfer-Functions.html#5.1.3.2-Transfer-Functions-in-Series)",
     "section": "5.1.3.2 Transfer Functions in Series"
    }
   },
   "outputs": [
    {
     "name": "stdout",
     "output_type": "stream",
     "text": [
      "<TransferFunction>: sys[5]\n",
      "Inputs (1): ['u[0]']\n",
      "Outputs (1): ['y[0]']\n",
      "\n",
      "         49.2\n",
      "  ------------------\n",
      "  150 s^2 + 25 s + 1\n"
     ]
    },
    {
     "data": {
      "text/plain": [
       "Text(0.5, 1.0, 'Step Response of Two First Order Transfer Functions in Series')"
      ]
     },
     "execution_count": 17,
     "metadata": {},
     "output_type": "execute_result"
    },
    {
     "data": {
      "image/png": "[encoded data removed]",
      "text/plain": [
       "<Figure size 640x480 with 1 Axes>"
      ]
     },
     "metadata": {},
     "output_type": "display_data"
    }
   ],
   "source": [
    "G1 = control.tf([12.3],[10,1])\n",
    "G2 = control.tf([4],[15,1])\n",
    "\n",
    "G = G2 * G1\n",
    "\n",
    "print(G)\n",
    "\n",
    "y,t = control.step(G)\n",
    "plt.plot(t,y)\n",
    "plt.xlabel('Time')\n",
    "plt.title('Step Response of Two First Order Transfer Functions in Series')"
   ]
  },
  {
   "cell_type": "markdown",
   "metadata": {
    "nbpages": {
     "level": 3,
     "link": "[5.1.3.3 Second Order Transfer Functions](https://jckantor.github.io/CBE30338/05.01-Getting-Started-with-Transfer-Functions.html#5.1.3.3-Second-Order-Transfer-Functions)",
     "section": "5.1.3.3 Second Order Transfer Functions"
    }
   },
   "source": [
    "##### Second Order Transfer Functions\n",
    "\n",
    "The control systems library is particularly helpful when working with second and higher order transfer functions. For\n",
    "\n",
    "$$G(s) = \\frac{3}{4s^2 + s + 1}$$\n",
    "\n"
   ]
  },
  {
   "cell_type": "code",
   "execution_count": 18,
   "metadata": {
    "nbpages": {
     "level": 3,
     "link": "[5.1.3.3 Second Order Transfer Functions](https://jckantor.github.io/CBE30338/05.01-Getting-Started-with-Transfer-Functions.html#5.1.3.3-Second-Order-Transfer-Functions)",
     "section": "5.1.3.3 Second Order Transfer Functions"
    }
   },
   "outputs": [
    {
     "name": "stdout",
     "output_type": "stream",
     "text": [
      "<TransferFunction>: sys[8]\n",
      "Inputs (1): ['u[0]']\n",
      "Outputs (1): ['y[0]']\n",
      "\n",
      "        3\n",
      "  -------------\n",
      "  4 s^2 + s + 1\n"
     ]
    },
    {
     "data": {
      "text/plain": [
       "Text(0.5, 1.0, 'Response of a Second Order System')"
      ]
     },
     "execution_count": 18,
     "metadata": {},
     "output_type": "execute_result"
    },
    {
     "data": {
      "image/png": "[encoded data removed]",
      "text/plain": [
       "<Figure size 640x480 with 1 Axes>"
      ]
     },
     "metadata": {},
     "output_type": "display_data"
    }
   ],
   "source": [
    "R = control.tf([3.],[4.,1.,1.])\n",
    "print(R)\n",
    "\n",
    "y,t = control.step(R)\n",
    "plt.plot(t,y)\n",
    "plt.xlabel('Time')\n",
    "plt.title('Response of a Second Order System')"
   ]
  }
 ],
 "metadata": {
  "anaconda-cloud": {},
  "kernelspec": {
   "display_name": "Python 3 (ipykernel)",
   "language": "python",
   "name": "python3"
  },
  "language_info": {
   "codemirror_mode": {
    "name": "ipython",
    "version": 3
   },
   "file_extension": ".py",
   "mimetype": "text/x-python",
   "name": "python",
   "nbconvert_exporter": "python",
   "pygments_lexer": "ipython3",
   "version": "3.12.7"
  }
 },
 "nbformat": 4,
 "nbformat_minor": 4
}
