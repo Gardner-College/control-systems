{
 "cells": [
  {
   "cell_type": "markdown",
   "metadata": {
    "nbpages": {
     "level": 0,
     "link": "[](https://jckantor.github.io/CBE30338/05.01-Getting-Started-with-Transfer-Functions.html)",
     "section": ""
    }
   },
   "source": [
    "- **Name:** \n",
    "- **Term:**"
   ]
  },
  {
   "cell_type": "markdown",
   "metadata": {
    "nbpages": {
     "level": 1,
     "link": "[5.1 Getting Started with Transfer Functions](https://jckantor.github.io/CBE30338/05.01-Getting-Started-with-Transfer-Functions.html#5.1-Getting-Started-with-Transfer-Functions)",
     "section": "5.1 Getting Started with Transfer Functions"
    }
   },
   "source": [
    "### Machine Problem 003: Transfer Function\n",
    "\n",
    "The [Python Control Systems Library](https://github.com/python-control/python-control) provides basic tools for the analysis and design of linear feedback control systems. The library provides tools to specify transfer function and state space models, manipulate models using block diagram algebra, stability analysis, and perform time and frequency domain simulation.\n",
    "\n",
    "The purpose of these notes is to provide a quick start with the Python Control Systems Library. Consult the [Python Control Systems Documentation](http://python-control.readthedocs.io/en/latest/) for more details."
   ]
  },
  {
   "cell_type": "markdown",
   "metadata": {
    "nbpages": {
     "level": 2,
     "link": "[5.1.1 Installation](https://jckantor.github.io/CBE30338/05.01-Getting-Started-with-Transfer-Functions.html#5.1.1-Installation)",
     "section": "5.1.1 Installation"
    }
   },
   "source": [
    "#### Installation\n",
    "\n",
    "The [Python Control Systems Library](https://github.com/python-control/python-control) is not, unfortunately, a standard part of most standard Python distributions. On most systems, the following commands will perform the required one-time installation of the necessary software."
   ]
  },
  {
   "cell_type": "markdown",
   "metadata": {},
   "source": [
    "To install both the Control Systems library and Slycot in an existing conda environment, run:\n",
    "`!conda install -c conda-forge control slycot`"
   ]
  },
  {
   "cell_type": "code",
   "execution_count": null,
   "metadata": {
    "nbpages": {
     "level": 2,
     "link": "[5.1.1 Installation](https://jckantor.github.io/CBE30338/05.01-Getting-Started-with-Transfer-Functions.html#5.1.1-Installation)",
     "section": "5.1.1 Installation"
    }
   },
   "outputs": [],
   "source": [
    "!pip install slycot\n",
    "!pip install control\n",
    "!pip install seaborn"
   ]
  },
  {
   "cell_type": "markdown",
   "metadata": {
    "nbpages": {
     "level": 2,
     "link": "[5.1.2 Library Usage](https://jckantor.github.io/CBE30338/05.01-Getting-Started-with-Transfer-Functions.html#5.1.2-Library-Usage)",
     "section": "5.1.2 Library Usage"
    }
   },
   "source": [
    "#### Library Usage\n",
    "\n",
    "The control systems library is designed to work with a simplified syntax where libraries are imported without the standard prefixes.  "
   ]
  },
  {
   "cell_type": "code",
   "execution_count": null,
   "metadata": {
    "nbpages": {
     "level": 2,
     "link": "[5.1.2 Library Usage](https://jckantor.github.io/CBE30338/05.01-Getting-Started-with-Transfer-Functions.html#5.1.2-Library-Usage)",
     "section": "5.1.2 Library Usage"
    }
   },
   "outputs": [],
   "source": [
    "import numpy as np\n",
    "import seaborn as sns\n",
    "import matplotlib.pyplot as plt\n",
    "import control.matlab as control"
   ]
  },
  {
   "cell_type": "markdown",
   "metadata": {
    "nbpages": {
     "level": 2,
     "link": "[5.1.3 Demonstration](https://jckantor.github.io/CBE30338/05.01-Getting-Started-with-Transfer-Functions.html#5.1.3-Demonstration)",
     "section": "5.1.3 Demonstration"
    }
   },
   "source": [
    "#### Demonstration"
   ]
  },
  {
   "cell_type": "markdown",
   "metadata": {
    "nbpages": {
     "level": 3,
     "link": "[5.1.3.1 Step Response of Transfer Functions](https://jckantor.github.io/CBE30338/05.01-Getting-Started-with-Transfer-Functions.html#5.1.3.1-Step-Response-of-Transfer-Functions)",
     "section": "5.1.3.1 Step Response of Transfer Functions"
    }
   },
   "source": [
    "##### Step Response of Transfer Functions\n",
    "\n",
    "The following cells demonstrate the use of two functions in the control systems library, `tf` and `step`. Suppose a signal $y(s)$ is related to an input $u(s)$ by the formula\n",
    "\n",
    "$$y(s) = \\underbrace{\\frac{4.3}{3.2s + 1}}_{G(s)} u(s)$$\n",
    "\n",
    "The transfer function\n",
    "\n",
    "$$G(s) = \\frac{4.3}{3.2 s + 1}$$\n",
    "\n",
    "is represented in the control system libary using `tf(num,den)` where `num` and `den` list the coefficients of the numerator and denominator polynomials.  "
   ]
  },
  {
   "cell_type": "code",
   "execution_count": null,
   "metadata": {
    "nbpages": {
     "level": 3,
     "link": "[5.1.3.1 Step Response of Transfer Functions](https://jckantor.github.io/CBE30338/05.01-Getting-Started-with-Transfer-Functions.html#5.1.3.1-Step-Response-of-Transfer-Functions)",
     "section": "5.1.3.1 Step Response of Transfer Functions"
    }
   },
   "outputs": [],
   "source": [
    "G = control.tf([4.3],[3.2, 1])\n",
    "print(G)"
   ]
  },
  {
   "cell_type": "markdown",
   "metadata": {
    "nbpages": {
     "level": 3,
     "link": "[5.1.3.1 Step Response of Transfer Functions](https://jckantor.github.io/CBE30338/05.01-Getting-Started-with-Transfer-Functions.html#5.1.3.1-Step-Response-of-Transfer-Functions)",
     "section": "5.1.3.1 Step Response of Transfer Functions"
    }
   },
   "source": [
    "The step response is created and plotted as"
   ]
  },
  {
   "cell_type": "code",
   "execution_count": null,
   "metadata": {
    "nbpages": {
     "level": 3,
     "link": "[5.1.3.1 Step Response of Transfer Functions](https://jckantor.github.io/CBE30338/05.01-Getting-Started-with-Transfer-Functions.html#5.1.3.1-Step-Response-of-Transfer-Functions)",
     "section": "5.1.3.1 Step Response of Transfer Functions"
    }
   },
   "outputs": [],
   "source": [
    "y,t = control.step(G)\n",
    "plt.plot(t,y)\n",
    "plt.xlabel('Time')\n",
    "plt.title('Step Response')"
   ]
  },
  {
   "cell_type": "markdown",
   "metadata": {
    "nbpages": {
     "level": 3,
     "link": "[5.1.3.2 Transfer Functions in Series](https://jckantor.github.io/CBE30338/05.01-Getting-Started-with-Transfer-Functions.html#5.1.3.2-Transfer-Functions-in-Series)",
     "section": "5.1.3.2 Transfer Functions in Series"
    }
   },
   "source": [
    "##### Transfer Functions in Series"
   ]
  },
  {
   "cell_type": "markdown",
   "metadata": {
    "nbpages": {
     "level": 3,
     "link": "[5.1.3.2 Transfer Functions in Series](https://jckantor.github.io/CBE30338/05.01-Getting-Started-with-Transfer-Functions.html#5.1.3.2-Transfer-Functions-in-Series)",
     "section": "5.1.3.2 Transfer Functions in Series"
    }
   },
   "source": [
    "Models for complex systems are generally constructed by combining models of simpler elements. Consider, for example, a serial connection of two transfer functions\n",
    "\n",
    "$$ y_1(s) = G_1(s) u(s)$$\n",
    "\n",
    "$$ y_2(s) = G_2(s) y_1(s)$$\n",
    "\n",
    "which can be diagrammed as\n",
    "\n",
    "$$u(s) \\longrightarrow \\boxed{\\\\G_1(s)} \\stackrel{y_1(s)}{\\longrightarrow} \\boxed{\\\\G_2(s)} \n",
    "\\longrightarrow y_2(s)$$\n",
    "\n",
    "The serial composition of two transfer functions can be written\n",
    "\n",
    "$$y_2(s) = \\underbrace{G_2(s)G_1(s)}_{G(s)} u(s)$$\n",
    "\n",
    "where the product $G(s) = G_2(s)G_1(s)$ represents the transfer function of the combined system. In terms of a block diagram\n",
    "\n",
    "$$u(s) \\longrightarrow \\boxed{\\\\G_1(s)} \\stackrel{y_1(s)}{\\longrightarrow} \\boxed{\\\\G_2(s)} \n",
    "\\longrightarrow y_2(s) \\qquad \\implies \\qquad\n",
    "u(s) \\longrightarrow \\boxed{\\\\G_2(s)G_1(s)} \\longrightarrow y_2(s)$$\n",
    "\n",
    "The product $G(s) = G_2(s)G_1(s)$$ is computed by taking the products of the numerator and denominator polynomials, respectively.  For example, suppose\n",
    "\n",
    "$$G_1(s) = \\frac{12.3}{10 s + 1} \\text{   and   }G_2(s) = \\frac{4}{15 s + 1}$$\n",
    "\n",
    "Then\n",
    "\n",
    "\\begin{align*}\n",
    "G(s) & = G_2(s)G_1(s) \\\\\n",
    "& = \\frac{4}{15 s + 1} \\times \\frac{12.3}{10 s + 1} = \\frac{4 \\times 12.3}{(15s + 1)(10s + 1)} = \\frac{49.2}{150 s^2 + 25s + 1}\n",
    "\\end{align*}\n",
    "\n",
    "We can verify this calculation using the control systems library."
   ]
  },
  {
   "cell_type": "code",
   "execution_count": null,
   "metadata": {
    "nbpages": {
     "level": 3,
     "link": "[5.1.3.2 Transfer Functions in Series](https://jckantor.github.io/CBE30338/05.01-Getting-Started-with-Transfer-Functions.html#5.1.3.2-Transfer-Functions-in-Series)",
     "section": "5.1.3.2 Transfer Functions in Series"
    }
   },
   "outputs": [],
   "source": [
    "G1 = control.tf([12.3],[10,1])\n",
    "G2 = control.tf([4],[15,1])\n",
    "\n",
    "G = G2 * G1\n",
    "\n",
    "print(G)\n",
    "\n",
    "y,t = control.step(G)\n",
    "plt.plot(t,y)\n",
    "plt.xlabel('Time')\n",
    "plt.title('Step Response of Two First Order Transfer Functions in Series')"
   ]
  },
  {
   "cell_type": "markdown",
   "metadata": {
    "nbpages": {
     "level": 3,
     "link": "[5.1.3.3 Second Order Transfer Functions](https://jckantor.github.io/CBE30338/05.01-Getting-Started-with-Transfer-Functions.html#5.1.3.3-Second-Order-Transfer-Functions)",
     "section": "5.1.3.3 Second Order Transfer Functions"
    }
   },
   "source": [
    "##### Second Order Transfer Functions\n",
    "\n",
    "The control systems library is particularly helpful when working with second and higher order transfer functions. For\n",
    "\n",
    "$$G(s) = \\frac{3}{4s^2 + s + 1}$$\n",
    "\n"
   ]
  },
  {
   "cell_type": "code",
   "execution_count": null,
   "metadata": {
    "nbpages": {
     "level": 3,
     "link": "[5.1.3.3 Second Order Transfer Functions](https://jckantor.github.io/CBE30338/05.01-Getting-Started-with-Transfer-Functions.html#5.1.3.3-Second-Order-Transfer-Functions)",
     "section": "5.1.3.3 Second Order Transfer Functions"
    }
   },
   "outputs": [],
   "source": [
    "R = control.tf([3.],[4.,1.,1.])\n",
    "print(R)\n",
    "\n",
    "y,t = control.step(R)\n",
    "plt.plot(t,y)\n",
    "plt.xlabel('Time')\n",
    "plt.title('Response of a Second Order System')"
   ]
  }
 ],
 "metadata": {
  "anaconda-cloud": {},
  "kernelspec": {
   "display_name": "Python 3 (ipykernel)",
   "language": "python",
   "name": "python3"
  },
  "language_info": {
   "codemirror_mode": {
    "name": "ipython",
    "version": 3
   },
   "file_extension": ".py",
   "mimetype": "text/x-python",
   "name": "python",
   "nbconvert_exporter": "python",
   "pygments_lexer": "ipython3",
   "version": "3.11.13"
  }
 },
 "nbformat": 4,
 "nbformat_minor": 4
}
